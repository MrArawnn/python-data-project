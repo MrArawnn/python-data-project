{
 "cells": [
  {
   "cell_type": "markdown",
   "id": "36a9fef9",
   "metadata": {},
   "source": [
    "# PROJECT - DATA SCIENTIST SALARIES IN USA"
   ]
  },
  {
   "cell_type": "markdown",
   "id": "b81bbe3e",
   "metadata": {},
   "source": [
    "### Made By Berkay TOSUN"
   ]
  },
  {
   "cell_type": "markdown",
   "id": "45889364",
   "metadata": {},
   "source": [
    " #### To contact me: brky.tsnn@gmail.com"
   ]
  },
  {
   "cell_type": "markdown",
   "id": "597771a2",
   "metadata": {},
   "source": [
    "#### To access data-set: https://www.kaggle.com/datasets/nikhilbhathi/data-scientist-salary-us-glassdoor"
   ]
  },
  {
   "cell_type": "markdown",
   "id": "70b11c6b",
   "metadata": {},
   "source": [
    "### What did I research?"
   ]
  },
  {
   "cell_type": "markdown",
   "id": "fab6d426",
   "metadata": {},
   "source": [
    "#### 1- Which job type earns most?"
   ]
  },
  {
   "cell_type": "markdown",
   "id": "fcd675d3",
   "metadata": {},
   "source": [
    "#### 2- Which type of job has the most jobs?"
   ]
  },
  {
   "cell_type": "markdown",
   "id": "c2a8c540",
   "metadata": {},
   "source": [
    "#### 3- Which job types require which skills most?"
   ]
  },
  {
   "cell_type": "markdown",
   "id": "094fb2ad",
   "metadata": {},
   "source": [
    "#### 4- Which states have much more job opportunities in data field in the USA?"
   ]
  },
  {
   "cell_type": "markdown",
   "id": "a3c245f5",
   "metadata": {},
   "source": [
    " "
   ]
  },
  {
   "cell_type": "markdown",
   "id": "8e50e001",
   "metadata": {},
   "source": [
    "# Import Libraries, Explore Data-Set"
   ]
  },
  {
   "cell_type": "code",
   "execution_count": 1,
   "id": "8b2895d9",
   "metadata": {},
   "outputs": [
    {
     "data": {
      "text/html": [
       "        <script type=\"text/javascript\">\n",
       "        window.PlotlyConfig = {MathJaxConfig: 'local'};\n",
       "        if (window.MathJax) {MathJax.Hub.Config({SVG: {font: \"STIX-Web\"}});}\n",
       "        if (typeof require !== 'undefined') {\n",
       "        require.undef(\"plotly\");\n",
       "        requirejs.config({\n",
       "            paths: {\n",
       "                'plotly': ['https://cdn.plot.ly/plotly-2.9.0.min']\n",
       "            }\n",
       "        });\n",
       "        require(['plotly'], function(Plotly) {\n",
       "            window._Plotly = Plotly;\n",
       "        });\n",
       "        }\n",
       "        </script>\n",
       "        "
      ]
     },
     "metadata": {},
     "output_type": "display_data"
    }
   ],
   "source": [
    "#First, let's add the libraries we will use and make some arrangments.\n",
    "import pandas as pd\n",
    "import numpy as np\n",
    "import matplotlib.pyplot as plt\n",
    "import seaborn as sns\n",
    "import chart_studio.plotly as py\n",
    "import re\n",
    "from plotly.offline import download_plotlyjs, init_notebook_mode, plot, iplot\n",
    "import plotly.graph_objs as go\n",
    "\n",
    "%matplotlib inline\n",
    "\n",
    "init_notebook_mode(connected = True)"
   ]
  },
  {
   "cell_type": "code",
   "execution_count": 2,
   "id": "199ee255",
   "metadata": {},
   "outputs": [],
   "source": [
    "# Let's read the csv file and check it out.\n",
    "df = pd.read_csv('data_scientist_salary.csv')"
   ]
  },
  {
   "cell_type": "code",
   "execution_count": 3,
   "id": "9608cd53",
   "metadata": {},
   "outputs": [
    {
     "data": {
      "text/html": [
       "<div>\n",
       "<style scoped>\n",
       "    .dataframe tbody tr th:only-of-type {\n",
       "        vertical-align: middle;\n",
       "    }\n",
       "\n",
       "    .dataframe tbody tr th {\n",
       "        vertical-align: top;\n",
       "    }\n",
       "\n",
       "    .dataframe thead th {\n",
       "        text-align: right;\n",
       "    }\n",
       "</style>\n",
       "<table border=\"1\" class=\"dataframe\">\n",
       "  <thead>\n",
       "    <tr style=\"text-align: right;\">\n",
       "      <th></th>\n",
       "      <th>index</th>\n",
       "      <th>Job Title</th>\n",
       "      <th>Salary Estimate</th>\n",
       "      <th>Job Description</th>\n",
       "      <th>Rating</th>\n",
       "      <th>Company Name</th>\n",
       "      <th>Location</th>\n",
       "      <th>Headquarters</th>\n",
       "      <th>Size</th>\n",
       "      <th>Founded</th>\n",
       "      <th>...</th>\n",
       "      <th>tensor</th>\n",
       "      <th>hadoop</th>\n",
       "      <th>tableau</th>\n",
       "      <th>bi</th>\n",
       "      <th>flink</th>\n",
       "      <th>mongo</th>\n",
       "      <th>google_an</th>\n",
       "      <th>job_title_sim</th>\n",
       "      <th>seniority_by_title</th>\n",
       "      <th>Degree</th>\n",
       "    </tr>\n",
       "  </thead>\n",
       "  <tbody>\n",
       "    <tr>\n",
       "      <th>0</th>\n",
       "      <td>0</td>\n",
       "      <td>Data Scientist</td>\n",
       "      <td>$53K-$91K (Glassdoor est.)</td>\n",
       "      <td>Data Scientist\\nLocation: Albuquerque, NM\\nEdu...</td>\n",
       "      <td>3.8</td>\n",
       "      <td>Tecolote Research\\n3.8</td>\n",
       "      <td>Albuquerque, NM</td>\n",
       "      <td>Goleta, CA</td>\n",
       "      <td>501 - 1000</td>\n",
       "      <td>1973</td>\n",
       "      <td>...</td>\n",
       "      <td>0</td>\n",
       "      <td>0</td>\n",
       "      <td>1</td>\n",
       "      <td>1</td>\n",
       "      <td>0</td>\n",
       "      <td>0</td>\n",
       "      <td>0</td>\n",
       "      <td>data scientist</td>\n",
       "      <td>na</td>\n",
       "      <td>M</td>\n",
       "    </tr>\n",
       "    <tr>\n",
       "      <th>1</th>\n",
       "      <td>1</td>\n",
       "      <td>Healthcare Data Scientist</td>\n",
       "      <td>$63K-$112K (Glassdoor est.)</td>\n",
       "      <td>What You Will Do:\\n\\nI. General Summary\\n\\nThe...</td>\n",
       "      <td>3.4</td>\n",
       "      <td>University of Maryland Medical System\\n3.4</td>\n",
       "      <td>Linthicum, MD</td>\n",
       "      <td>Baltimore, MD</td>\n",
       "      <td>10000+</td>\n",
       "      <td>1984</td>\n",
       "      <td>...</td>\n",
       "      <td>0</td>\n",
       "      <td>0</td>\n",
       "      <td>0</td>\n",
       "      <td>0</td>\n",
       "      <td>0</td>\n",
       "      <td>0</td>\n",
       "      <td>0</td>\n",
       "      <td>data scientist</td>\n",
       "      <td>na</td>\n",
       "      <td>M</td>\n",
       "    </tr>\n",
       "    <tr>\n",
       "      <th>2</th>\n",
       "      <td>2</td>\n",
       "      <td>Data Scientist</td>\n",
       "      <td>$80K-$90K (Glassdoor est.)</td>\n",
       "      <td>KnowBe4, Inc. is a high growth information sec...</td>\n",
       "      <td>4.8</td>\n",
       "      <td>KnowBe4\\n4.8</td>\n",
       "      <td>Clearwater, FL</td>\n",
       "      <td>Clearwater, FL</td>\n",
       "      <td>501 - 1000</td>\n",
       "      <td>2010</td>\n",
       "      <td>...</td>\n",
       "      <td>0</td>\n",
       "      <td>0</td>\n",
       "      <td>0</td>\n",
       "      <td>0</td>\n",
       "      <td>0</td>\n",
       "      <td>0</td>\n",
       "      <td>0</td>\n",
       "      <td>data scientist</td>\n",
       "      <td>na</td>\n",
       "      <td>M</td>\n",
       "    </tr>\n",
       "    <tr>\n",
       "      <th>3</th>\n",
       "      <td>3</td>\n",
       "      <td>Data Scientist</td>\n",
       "      <td>$56K-$97K (Glassdoor est.)</td>\n",
       "      <td>*Organization and Job ID**\\nJob ID: 310709\\n\\n...</td>\n",
       "      <td>3.8</td>\n",
       "      <td>PNNL\\n3.8</td>\n",
       "      <td>Richland, WA</td>\n",
       "      <td>Richland, WA</td>\n",
       "      <td>1001 - 5000</td>\n",
       "      <td>1965</td>\n",
       "      <td>...</td>\n",
       "      <td>0</td>\n",
       "      <td>0</td>\n",
       "      <td>0</td>\n",
       "      <td>0</td>\n",
       "      <td>0</td>\n",
       "      <td>0</td>\n",
       "      <td>0</td>\n",
       "      <td>data scientist</td>\n",
       "      <td>na</td>\n",
       "      <td>na</td>\n",
       "    </tr>\n",
       "    <tr>\n",
       "      <th>4</th>\n",
       "      <td>4</td>\n",
       "      <td>Data Scientist</td>\n",
       "      <td>$86K-$143K (Glassdoor est.)</td>\n",
       "      <td>Data Scientist\\nAffinity Solutions / Marketing...</td>\n",
       "      <td>2.9</td>\n",
       "      <td>Affinity Solutions\\n2.9</td>\n",
       "      <td>New York, NY</td>\n",
       "      <td>New York, NY</td>\n",
       "      <td>51 - 200</td>\n",
       "      <td>1998</td>\n",
       "      <td>...</td>\n",
       "      <td>0</td>\n",
       "      <td>0</td>\n",
       "      <td>0</td>\n",
       "      <td>0</td>\n",
       "      <td>0</td>\n",
       "      <td>0</td>\n",
       "      <td>0</td>\n",
       "      <td>data scientist</td>\n",
       "      <td>na</td>\n",
       "      <td>na</td>\n",
       "    </tr>\n",
       "    <tr>\n",
       "      <th>5</th>\n",
       "      <td>5</td>\n",
       "      <td>Data Scientist</td>\n",
       "      <td>$71K-$119K (Glassdoor est.)</td>\n",
       "      <td>CyrusOne is seeking a talented Data Scientist ...</td>\n",
       "      <td>3.4</td>\n",
       "      <td>CyrusOne\\n3.4</td>\n",
       "      <td>Dallas, TX</td>\n",
       "      <td>Dallas, TX</td>\n",
       "      <td>201 - 500</td>\n",
       "      <td>2000</td>\n",
       "      <td>...</td>\n",
       "      <td>0</td>\n",
       "      <td>0</td>\n",
       "      <td>0</td>\n",
       "      <td>1</td>\n",
       "      <td>0</td>\n",
       "      <td>1</td>\n",
       "      <td>0</td>\n",
       "      <td>data scientist</td>\n",
       "      <td>na</td>\n",
       "      <td>na</td>\n",
       "    </tr>\n",
       "    <tr>\n",
       "      <th>6</th>\n",
       "      <td>6</td>\n",
       "      <td>Data Scientist</td>\n",
       "      <td>$54K-$93K (Glassdoor est.)</td>\n",
       "      <td>Job Description\\n\\n**Please only local candida...</td>\n",
       "      <td>4.1</td>\n",
       "      <td>ClearOne Advantage\\n4.1</td>\n",
       "      <td>Baltimore, MD</td>\n",
       "      <td>Baltimore, MD</td>\n",
       "      <td>501 - 1000</td>\n",
       "      <td>2008</td>\n",
       "      <td>...</td>\n",
       "      <td>0</td>\n",
       "      <td>0</td>\n",
       "      <td>0</td>\n",
       "      <td>0</td>\n",
       "      <td>0</td>\n",
       "      <td>0</td>\n",
       "      <td>0</td>\n",
       "      <td>data scientist</td>\n",
       "      <td>na</td>\n",
       "      <td>na</td>\n",
       "    </tr>\n",
       "    <tr>\n",
       "      <th>7</th>\n",
       "      <td>7</td>\n",
       "      <td>Data Scientist</td>\n",
       "      <td>$86K-$142K (Glassdoor est.)</td>\n",
       "      <td>Advanced Analytics – Lead Data Scientist\\nOver...</td>\n",
       "      <td>3.8</td>\n",
       "      <td>Logic20/20\\n3.8</td>\n",
       "      <td>San Jose, CA</td>\n",
       "      <td>Seattle, WA</td>\n",
       "      <td>201 - 500</td>\n",
       "      <td>2005</td>\n",
       "      <td>...</td>\n",
       "      <td>1</td>\n",
       "      <td>0</td>\n",
       "      <td>0</td>\n",
       "      <td>0</td>\n",
       "      <td>0</td>\n",
       "      <td>0</td>\n",
       "      <td>0</td>\n",
       "      <td>data scientist</td>\n",
       "      <td>na</td>\n",
       "      <td>M</td>\n",
       "    </tr>\n",
       "    <tr>\n",
       "      <th>8</th>\n",
       "      <td>8</td>\n",
       "      <td>Research Scientist</td>\n",
       "      <td>$38K-$84K (Glassdoor est.)</td>\n",
       "      <td>SUMMARY\\n\\nThe Research Scientist I will be ta...</td>\n",
       "      <td>3.3</td>\n",
       "      <td>Rochester Regional Health\\n3.3</td>\n",
       "      <td>Rochester, NY</td>\n",
       "      <td>Rochester, NY</td>\n",
       "      <td>10000+</td>\n",
       "      <td>2014</td>\n",
       "      <td>...</td>\n",
       "      <td>0</td>\n",
       "      <td>0</td>\n",
       "      <td>0</td>\n",
       "      <td>0</td>\n",
       "      <td>0</td>\n",
       "      <td>0</td>\n",
       "      <td>0</td>\n",
       "      <td>other scientist</td>\n",
       "      <td>na</td>\n",
       "      <td>P</td>\n",
       "    </tr>\n",
       "    <tr>\n",
       "      <th>9</th>\n",
       "      <td>9</td>\n",
       "      <td>Data Scientist</td>\n",
       "      <td>$120K-$160K (Glassdoor est.)</td>\n",
       "      <td>isn’t your usual company. Our work is powered ...</td>\n",
       "      <td>4.6</td>\n",
       "      <td>&lt;intent&gt;\\n4.6</td>\n",
       "      <td>New York, NY</td>\n",
       "      <td>New York, NY</td>\n",
       "      <td>51 - 200</td>\n",
       "      <td>2009</td>\n",
       "      <td>...</td>\n",
       "      <td>0</td>\n",
       "      <td>0</td>\n",
       "      <td>0</td>\n",
       "      <td>0</td>\n",
       "      <td>0</td>\n",
       "      <td>0</td>\n",
       "      <td>0</td>\n",
       "      <td>data scientist</td>\n",
       "      <td>na</td>\n",
       "      <td>na</td>\n",
       "    </tr>\n",
       "  </tbody>\n",
       "</table>\n",
       "<p>10 rows × 38 columns</p>\n",
       "</div>"
      ],
      "text/plain": [
       "   index                  Job Title               Salary Estimate  \\\n",
       "0      0             Data Scientist    $53K-$91K (Glassdoor est.)   \n",
       "1      1  Healthcare Data Scientist   $63K-$112K (Glassdoor est.)   \n",
       "2      2             Data Scientist    $80K-$90K (Glassdoor est.)   \n",
       "3      3             Data Scientist    $56K-$97K (Glassdoor est.)   \n",
       "4      4             Data Scientist   $86K-$143K (Glassdoor est.)   \n",
       "5      5             Data Scientist   $71K-$119K (Glassdoor est.)   \n",
       "6      6             Data Scientist    $54K-$93K (Glassdoor est.)   \n",
       "7      7             Data Scientist   $86K-$142K (Glassdoor est.)   \n",
       "8      8         Research Scientist    $38K-$84K (Glassdoor est.)   \n",
       "9      9             Data Scientist  $120K-$160K (Glassdoor est.)   \n",
       "\n",
       "                                     Job Description  Rating  \\\n",
       "0  Data Scientist\\nLocation: Albuquerque, NM\\nEdu...     3.8   \n",
       "1  What You Will Do:\\n\\nI. General Summary\\n\\nThe...     3.4   \n",
       "2  KnowBe4, Inc. is a high growth information sec...     4.8   \n",
       "3  *Organization and Job ID**\\nJob ID: 310709\\n\\n...     3.8   \n",
       "4  Data Scientist\\nAffinity Solutions / Marketing...     2.9   \n",
       "5  CyrusOne is seeking a talented Data Scientist ...     3.4   \n",
       "6  Job Description\\n\\n**Please only local candida...     4.1   \n",
       "7  Advanced Analytics – Lead Data Scientist\\nOver...     3.8   \n",
       "8  SUMMARY\\n\\nThe Research Scientist I will be ta...     3.3   \n",
       "9  isn’t your usual company. Our work is powered ...     4.6   \n",
       "\n",
       "                                 Company Name         Location  \\\n",
       "0                      Tecolote Research\\n3.8  Albuquerque, NM   \n",
       "1  University of Maryland Medical System\\n3.4    Linthicum, MD   \n",
       "2                                KnowBe4\\n4.8   Clearwater, FL   \n",
       "3                                   PNNL\\n3.8     Richland, WA   \n",
       "4                     Affinity Solutions\\n2.9     New York, NY   \n",
       "5                               CyrusOne\\n3.4       Dallas, TX   \n",
       "6                     ClearOne Advantage\\n4.1    Baltimore, MD   \n",
       "7                             Logic20/20\\n3.8     San Jose, CA   \n",
       "8              Rochester Regional Health\\n3.3    Rochester, NY   \n",
       "9                               <intent>\\n4.6     New York, NY   \n",
       "\n",
       "     Headquarters          Size  Founded  ... tensor hadoop tableau bi flink  \\\n",
       "0      Goleta, CA   501 - 1000      1973  ...      0      0       1  1     0   \n",
       "1   Baltimore, MD       10000+      1984  ...      0      0       0  0     0   \n",
       "2  Clearwater, FL   501 - 1000      2010  ...      0      0       0  0     0   \n",
       "3    Richland, WA  1001 - 5000      1965  ...      0      0       0  0     0   \n",
       "4    New York, NY     51 - 200      1998  ...      0      0       0  0     0   \n",
       "5      Dallas, TX    201 - 500      2000  ...      0      0       0  1     0   \n",
       "6   Baltimore, MD   501 - 1000      2008  ...      0      0       0  0     0   \n",
       "7     Seattle, WA    201 - 500      2005  ...      1      0       0  0     0   \n",
       "8   Rochester, NY       10000+      2014  ...      0      0       0  0     0   \n",
       "9    New York, NY     51 - 200      2009  ...      0      0       0  0     0   \n",
       "\n",
       "   mongo  google_an    job_title_sim  seniority_by_title  Degree  \n",
       "0      0          0   data scientist                  na       M  \n",
       "1      0          0   data scientist                  na       M  \n",
       "2      0          0   data scientist                  na       M  \n",
       "3      0          0   data scientist                  na      na  \n",
       "4      0          0   data scientist                  na      na  \n",
       "5      1          0   data scientist                  na      na  \n",
       "6      0          0   data scientist                  na      na  \n",
       "7      0          0   data scientist                  na       M  \n",
       "8      0          0  other scientist                  na       P  \n",
       "9      0          0   data scientist                  na      na  \n",
       "\n",
       "[10 rows x 38 columns]"
      ]
     },
     "execution_count": 3,
     "metadata": {},
     "output_type": "execute_result"
    }
   ],
   "source": [
    "df.head(10)"
   ]
  },
  {
   "cell_type": "code",
   "execution_count": 4,
   "id": "aec57951",
   "metadata": {},
   "outputs": [
    {
     "name": "stdout",
     "output_type": "stream",
     "text": [
      "<class 'pandas.core.frame.DataFrame'>\n",
      "RangeIndex: 742 entries, 0 to 741\n",
      "Data columns (total 38 columns):\n",
      " #   Column              Non-Null Count  Dtype  \n",
      "---  ------              --------------  -----  \n",
      " 0   index               742 non-null    int64  \n",
      " 1   Job Title           742 non-null    object \n",
      " 2   Salary Estimate     742 non-null    object \n",
      " 3   Job Description     742 non-null    object \n",
      " 4   Rating              742 non-null    float64\n",
      " 5   Company Name        742 non-null    object \n",
      " 6   Location            742 non-null    object \n",
      " 7   Headquarters        742 non-null    object \n",
      " 8   Size                742 non-null    object \n",
      " 9   Founded             742 non-null    int64  \n",
      " 10  Type of ownership   742 non-null    object \n",
      " 11  Industry            742 non-null    object \n",
      " 12  Sector              742 non-null    object \n",
      " 13  Revenue             742 non-null    object \n",
      " 14  Competitors         742 non-null    object \n",
      " 15  Hourly              742 non-null    int64  \n",
      " 16  Employer provided   742 non-null    int64  \n",
      " 17  company_txt         742 non-null    object \n",
      " 18  Age                 742 non-null    int64  \n",
      " 19  Python              742 non-null    int64  \n",
      " 20  spark               742 non-null    int64  \n",
      " 21  aws                 742 non-null    int64  \n",
      " 22  excel               742 non-null    int64  \n",
      " 23  sql                 742 non-null    int64  \n",
      " 24  sas                 742 non-null    int64  \n",
      " 25  keras               742 non-null    int64  \n",
      " 26  pytorch             742 non-null    int64  \n",
      " 27  scikit              742 non-null    int64  \n",
      " 28  tensor              742 non-null    int64  \n",
      " 29  hadoop              742 non-null    int64  \n",
      " 30  tableau             742 non-null    int64  \n",
      " 31  bi                  742 non-null    int64  \n",
      " 32  flink               742 non-null    int64  \n",
      " 33  mongo               742 non-null    int64  \n",
      " 34  google_an           742 non-null    int64  \n",
      " 35  job_title_sim       742 non-null    object \n",
      " 36  seniority_by_title  742 non-null    object \n",
      " 37  Degree              742 non-null    object \n",
      "dtypes: float64(1), int64(21), object(16)\n",
      "memory usage: 220.4+ KB\n"
     ]
    }
   ],
   "source": [
    "#Let's analyze columns and their data types.\n",
    "df.info()"
   ]
  },
  {
   "cell_type": "markdown",
   "id": "e20c0e94",
   "metadata": {},
   "source": [
    "# Data-Cleaning, Creating Columns"
   ]
  },
  {
   "cell_type": "code",
   "execution_count": 5,
   "id": "8028364d",
   "metadata": {},
   "outputs": [],
   "source": [
    "#There are some columns that I will not use on this project, so I'm gonna get rid of them.\n",
    "df = df.drop(columns=['index', 'Rating', 'Headquarters', 'Size', 'Founded',\n",
    "                      'Type of ownership', 'Industry', 'Sector', 'Revenue', \n",
    "                      'Competitors', 'Hourly', 'Employer provided',\n",
    "                      'company_txt', 'Age'])"
   ]
  },
  {
   "cell_type": "code",
   "execution_count": 6,
   "id": "1dcda957",
   "metadata": {},
   "outputs": [
    {
     "data": {
      "text/plain": [
       "job_title_sim\n",
       "Data scientist project manager     16\n",
       "analyst                           101\n",
       "data analitics                      8\n",
       "data engineer                     119\n",
       "data modeler                        5\n",
       "data scientist                    313\n",
       "director                            5\n",
       "machine learning engineer          22\n",
       "na                                 10\n",
       "other scientist                   143\n",
       "Name: Job Title, dtype: int64"
      ]
     },
     "execution_count": 6,
     "metadata": {},
     "output_type": "execute_result"
    }
   ],
   "source": [
    "#Let's explore how many different job types in data-set and count them one by one.\n",
    "df.groupby('job_title_sim')['Job Title'].count()"
   ]
  },
  {
   "cell_type": "code",
   "execution_count": 7,
   "id": "ea57955f",
   "metadata": {},
   "outputs": [],
   "source": [
    "#I want to focus on data scientist, data analyst, machine learning engineer and data engineers. So, I will drop others.\n",
    "df = df[(df['job_title_sim'] != 'director') & \n",
    "        (df['job_title_sim'] != 'Data scientist project manager') &\n",
    "        (df['job_title_sim'] != 'other scientist') &\n",
    "        (df['job_title_sim'] != 'na') &\n",
    "        (df['job_title_sim'] != 'data modeler')]"
   ]
  },
  {
   "cell_type": "code",
   "execution_count": 8,
   "id": "4dc2a157",
   "metadata": {},
   "outputs": [],
   "source": [
    "#For better visuals later on, let's change the name of job titles.\n",
    "df.loc[(df['job_title_sim'] == \"analyst\") | (df['job_title_sim'] == \"data analitics\"), \"job_title_sim\"] = \"Data Analyst\"\n",
    "df.loc[df['job_title_sim'] == \"data scientist\", \"job_title_sim\"] = \"Data Scientist\"\n",
    "df.loc[df['job_title_sim'] == \"data engineer\", \"job_title_sim\"] = \"Data Engineer\"\n",
    "df.loc[df['job_title_sim'] == \"machine learning engineer\", \"job_title_sim\"] = \"Machine Learning Engineer\""
   ]
  },
  {
   "cell_type": "code",
   "execution_count": 9,
   "id": "045674bd",
   "metadata": {},
   "outputs": [],
   "source": [
    "#To avoid duplicated rows, let's delete them.\n",
    "df = df.drop_duplicates()"
   ]
  },
  {
   "cell_type": "code",
   "execution_count": 10,
   "id": "1a78c474",
   "metadata": {},
   "outputs": [
    {
     "data": {
      "text/plain": [
       "4"
      ]
     },
     "execution_count": 10,
     "metadata": {},
     "output_type": "execute_result"
    }
   ],
   "source": [
    "#Be sure that we have only 4 job titles (data scientist, data analyst, machine learning engineer and data engineers).\n",
    "len(df[\"job_title_sim\"].unique())"
   ]
  },
  {
   "cell_type": "markdown",
   "id": "568ed3de",
   "metadata": {},
   "source": [
    " "
   ]
  },
  {
   "cell_type": "markdown",
   "id": "5c618038",
   "metadata": {},
   "source": [
    "QUICK NOTE: In the original data-set, we already had minimum, maximum and average values for salary range and also the location codes. But, for extra data cleaning, I deleted them from csv file and created those columns by myself."
   ]
  },
  {
   "cell_type": "markdown",
   "id": "801a0463",
   "metadata": {},
   "source": [
    " "
   ]
  },
  {
   "cell_type": "code",
   "execution_count": 11,
   "id": "28ab82e9",
   "metadata": {},
   "outputs": [],
   "source": [
    "#Let's create column for minimum salaries.\n",
    "def lowest_salary(salary):\n",
    "    lowest_sal = re.findall(r'\\d+', salary)\n",
    "    return int(lowest_sal[0])\n",
    "\n",
    "df['Lowest Salary'] = df['Salary Estimate'].apply(lambda salary: lowest_salary(salary))"
   ]
  },
  {
   "cell_type": "code",
   "execution_count": 12,
   "id": "2857c364",
   "metadata": {},
   "outputs": [],
   "source": [
    "#Let's create column for maximum salaries.\n",
    "def highest_salary(salary):\n",
    "    highest_sal = re.findall(r'\\d+', salary)\n",
    "    return int(highest_sal[1])\n",
    "\n",
    "df['Highest Salary'] = df['Salary Estimate'].apply(lambda salary: highest_salary(salary))"
   ]
  },
  {
   "cell_type": "code",
   "execution_count": 13,
   "id": "c3417d75",
   "metadata": {},
   "outputs": [],
   "source": [
    "#Let's create column for average salaries.\n",
    "df['Average Salary'] = (df['Lowest Salary'] + df['Highest Salary']) / 2"
   ]
  },
  {
   "cell_type": "code",
   "execution_count": 14,
   "id": "55bf1098",
   "metadata": {},
   "outputs": [],
   "source": [
    "#To avoid error, you need to assign 'None' to variable in below.\n",
    "pd.options.mode.chained_assignment = None\n",
    "\n",
    "#Let's create column for job locations.\n",
    "def loc_code(location):\n",
    "    splitted_loc = location.split()\n",
    "    return splitted_loc[len(splitted_loc) - 1]\n",
    "    \n",
    "df['Location Code'] = df['Location'].apply(lambda location: loc_code(location))"
   ]
  },
  {
   "cell_type": "code",
   "execution_count": 15,
   "id": "778197b3",
   "metadata": {},
   "outputs": [
    {
     "name": "stdout",
     "output_type": "stream",
     "text": [
      "<class 'pandas.core.frame.DataFrame'>\n",
      "Int64Index: 372 entries, 0 to 735\n",
      "Data columns (total 28 columns):\n",
      " #   Column              Non-Null Count  Dtype  \n",
      "---  ------              --------------  -----  \n",
      " 0   Job Title           372 non-null    object \n",
      " 1   Salary Estimate     372 non-null    object \n",
      " 2   Job Description     372 non-null    object \n",
      " 3   Company Name        372 non-null    object \n",
      " 4   Location            372 non-null    object \n",
      " 5   Python              372 non-null    int64  \n",
      " 6   spark               372 non-null    int64  \n",
      " 7   aws                 372 non-null    int64  \n",
      " 8   excel               372 non-null    int64  \n",
      " 9   sql                 372 non-null    int64  \n",
      " 10  sas                 372 non-null    int64  \n",
      " 11  keras               372 non-null    int64  \n",
      " 12  pytorch             372 non-null    int64  \n",
      " 13  scikit              372 non-null    int64  \n",
      " 14  tensor              372 non-null    int64  \n",
      " 15  hadoop              372 non-null    int64  \n",
      " 16  tableau             372 non-null    int64  \n",
      " 17  bi                  372 non-null    int64  \n",
      " 18  flink               372 non-null    int64  \n",
      " 19  mongo               372 non-null    int64  \n",
      " 20  google_an           372 non-null    int64  \n",
      " 21  job_title_sim       372 non-null    object \n",
      " 22  seniority_by_title  372 non-null    object \n",
      " 23  Degree              372 non-null    object \n",
      " 24  Lowest Salary       372 non-null    int64  \n",
      " 25  Highest Salary      372 non-null    int64  \n",
      " 26  Average Salary      372 non-null    float64\n",
      " 27  Location Code       372 non-null    object \n",
      "dtypes: float64(1), int64(18), object(9)\n",
      "memory usage: 84.3+ KB\n"
     ]
    }
   ],
   "source": [
    "#Here is the new dataframe.\n",
    "df.info()"
   ]
  },
  {
   "cell_type": "code",
   "execution_count": 16,
   "id": "2d794da7",
   "metadata": {},
   "outputs": [
    {
     "data": {
      "text/plain": [
       "Job Title             False\n",
       "Salary Estimate       False\n",
       "Job Description       False\n",
       "Company Name          False\n",
       "Location              False\n",
       "Python                False\n",
       "spark                 False\n",
       "aws                   False\n",
       "excel                 False\n",
       "sql                   False\n",
       "sas                   False\n",
       "keras                 False\n",
       "pytorch               False\n",
       "scikit                False\n",
       "tensor                False\n",
       "hadoop                False\n",
       "tableau               False\n",
       "bi                    False\n",
       "flink                 False\n",
       "mongo                 False\n",
       "google_an             False\n",
       "job_title_sim         False\n",
       "seniority_by_title    False\n",
       "Degree                False\n",
       "Lowest Salary         False\n",
       "Highest Salary        False\n",
       "Average Salary        False\n",
       "Location Code         False\n",
       "dtype: bool"
      ]
     },
     "execution_count": 16,
     "metadata": {},
     "output_type": "execute_result"
    }
   ],
   "source": [
    "#Let's see if there is any NaN value in our data-set.\n",
    "df.isnull().any()"
   ]
  },
  {
   "cell_type": "markdown",
   "id": "efe4bfbf",
   "metadata": {},
   "source": [
    "# Descriptive Statistics"
   ]
  },
  {
   "cell_type": "code",
   "execution_count": 17,
   "id": "9d728ab7",
   "metadata": {},
   "outputs": [
    {
     "data": {
      "text/html": [
       "<div>\n",
       "<style scoped>\n",
       "    .dataframe tbody tr th:only-of-type {\n",
       "        vertical-align: middle;\n",
       "    }\n",
       "\n",
       "    .dataframe tbody tr th {\n",
       "        vertical-align: top;\n",
       "    }\n",
       "\n",
       "    .dataframe thead th {\n",
       "        text-align: right;\n",
       "    }\n",
       "</style>\n",
       "<table border=\"1\" class=\"dataframe\">\n",
       "  <thead>\n",
       "    <tr style=\"text-align: right;\">\n",
       "      <th></th>\n",
       "      <th>Job Title</th>\n",
       "      <th>Salary Estimate</th>\n",
       "      <th>Job Description</th>\n",
       "      <th>Company Name</th>\n",
       "      <th>Location</th>\n",
       "      <th>job_title_sim</th>\n",
       "      <th>seniority_by_title</th>\n",
       "      <th>Degree</th>\n",
       "      <th>Location Code</th>\n",
       "    </tr>\n",
       "  </thead>\n",
       "  <tbody>\n",
       "    <tr>\n",
       "      <th>count</th>\n",
       "      <td>372</td>\n",
       "      <td>372</td>\n",
       "      <td>372</td>\n",
       "      <td>372</td>\n",
       "      <td>372</td>\n",
       "      <td>372</td>\n",
       "      <td>372</td>\n",
       "      <td>372</td>\n",
       "      <td>372</td>\n",
       "    </tr>\n",
       "    <tr>\n",
       "      <th>unique</th>\n",
       "      <td>174</td>\n",
       "      <td>334</td>\n",
       "      <td>368</td>\n",
       "      <td>289</td>\n",
       "      <td>166</td>\n",
       "      <td>4</td>\n",
       "      <td>3</td>\n",
       "      <td>3</td>\n",
       "      <td>34</td>\n",
       "    </tr>\n",
       "    <tr>\n",
       "      <th>top</th>\n",
       "      <td>Data Scientist</td>\n",
       "      <td>$86K-$143K (Glassdoor est.)</td>\n",
       "      <td>About Netskope\\n\\nToday, there's more data and...</td>\n",
       "      <td>PNNL\\n3.8</td>\n",
       "      <td>New York, NY</td>\n",
       "      <td>Data Scientist</td>\n",
       "      <td>na</td>\n",
       "      <td>na</td>\n",
       "      <td>CA</td>\n",
       "    </tr>\n",
       "    <tr>\n",
       "      <th>freq</th>\n",
       "      <td>100</td>\n",
       "      <td>4</td>\n",
       "      <td>2</td>\n",
       "      <td>6</td>\n",
       "      <td>36</td>\n",
       "      <td>211</td>\n",
       "      <td>271</td>\n",
       "      <td>209</td>\n",
       "      <td>83</td>\n",
       "    </tr>\n",
       "  </tbody>\n",
       "</table>\n",
       "</div>"
      ],
      "text/plain": [
       "             Job Title              Salary Estimate  \\\n",
       "count              372                          372   \n",
       "unique             174                          334   \n",
       "top     Data Scientist  $86K-$143K (Glassdoor est.)   \n",
       "freq               100                            4   \n",
       "\n",
       "                                          Job Description Company Name  \\\n",
       "count                                                 372          372   \n",
       "unique                                                368          289   \n",
       "top     About Netskope\\n\\nToday, there's more data and...    PNNL\\n3.8   \n",
       "freq                                                    2            6   \n",
       "\n",
       "            Location   job_title_sim seniority_by_title Degree Location Code  \n",
       "count            372             372                372    372           372  \n",
       "unique           166               4                  3      3            34  \n",
       "top     New York, NY  Data Scientist                 na     na            CA  \n",
       "freq              36             211                271    209            83  "
      ]
     },
     "execution_count": 17,
     "metadata": {},
     "output_type": "execute_result"
    }
   ],
   "source": [
    "#Check categorical variables\n",
    "df.describe(include = object)"
   ]
  },
  {
   "cell_type": "code",
   "execution_count": 18,
   "id": "969f6a01",
   "metadata": {},
   "outputs": [
    {
     "data": {
      "text/html": [
       "<div>\n",
       "<style scoped>\n",
       "    .dataframe tbody tr th:only-of-type {\n",
       "        vertical-align: middle;\n",
       "    }\n",
       "\n",
       "    .dataframe tbody tr th {\n",
       "        vertical-align: top;\n",
       "    }\n",
       "\n",
       "    .dataframe thead th {\n",
       "        text-align: right;\n",
       "    }\n",
       "</style>\n",
       "<table border=\"1\" class=\"dataframe\">\n",
       "  <thead>\n",
       "    <tr style=\"text-align: right;\">\n",
       "      <th></th>\n",
       "      <th>Python</th>\n",
       "      <th>spark</th>\n",
       "      <th>aws</th>\n",
       "      <th>excel</th>\n",
       "      <th>sql</th>\n",
       "      <th>sas</th>\n",
       "      <th>keras</th>\n",
       "      <th>pytorch</th>\n",
       "      <th>scikit</th>\n",
       "      <th>tensor</th>\n",
       "      <th>hadoop</th>\n",
       "      <th>tableau</th>\n",
       "      <th>bi</th>\n",
       "      <th>flink</th>\n",
       "      <th>mongo</th>\n",
       "      <th>google_an</th>\n",
       "      <th>Lowest Salary</th>\n",
       "      <th>Highest Salary</th>\n",
       "      <th>Average Salary</th>\n",
       "    </tr>\n",
       "  </thead>\n",
       "  <tbody>\n",
       "    <tr>\n",
       "      <th>count</th>\n",
       "      <td>372.000000</td>\n",
       "      <td>372.000000</td>\n",
       "      <td>372.000000</td>\n",
       "      <td>372.000000</td>\n",
       "      <td>372.000000</td>\n",
       "      <td>372.000000</td>\n",
       "      <td>372.000000</td>\n",
       "      <td>372.000000</td>\n",
       "      <td>372.000000</td>\n",
       "      <td>372.000000</td>\n",
       "      <td>372.000000</td>\n",
       "      <td>372.000000</td>\n",
       "      <td>372.000000</td>\n",
       "      <td>372.000000</td>\n",
       "      <td>372.000000</td>\n",
       "      <td>372.000000</td>\n",
       "      <td>372.000000</td>\n",
       "      <td>372.000000</td>\n",
       "      <td>372.000000</td>\n",
       "    </tr>\n",
       "    <tr>\n",
       "      <th>mean</th>\n",
       "      <td>0.663978</td>\n",
       "      <td>0.287634</td>\n",
       "      <td>0.258065</td>\n",
       "      <td>0.537634</td>\n",
       "      <td>0.645161</td>\n",
       "      <td>0.110215</td>\n",
       "      <td>0.051075</td>\n",
       "      <td>0.061828</td>\n",
       "      <td>0.099462</td>\n",
       "      <td>0.126344</td>\n",
       "      <td>0.206989</td>\n",
       "      <td>0.244624</td>\n",
       "      <td>0.096774</td>\n",
       "      <td>0.021505</td>\n",
       "      <td>0.061828</td>\n",
       "      <td>0.021505</td>\n",
       "      <td>77.655914</td>\n",
       "      <td>130.994624</td>\n",
       "      <td>104.325269</td>\n",
       "    </tr>\n",
       "    <tr>\n",
       "      <th>std</th>\n",
       "      <td>0.472982</td>\n",
       "      <td>0.453269</td>\n",
       "      <td>0.438159</td>\n",
       "      <td>0.499253</td>\n",
       "      <td>0.479109</td>\n",
       "      <td>0.313579</td>\n",
       "      <td>0.220448</td>\n",
       "      <td>0.241167</td>\n",
       "      <td>0.299685</td>\n",
       "      <td>0.332684</td>\n",
       "      <td>0.405693</td>\n",
       "      <td>0.430443</td>\n",
       "      <td>0.296048</td>\n",
       "      <td>0.145257</td>\n",
       "      <td>0.241167</td>\n",
       "      <td>0.145257</td>\n",
       "      <td>30.495458</td>\n",
       "      <td>44.247649</td>\n",
       "      <td>36.912537</td>\n",
       "    </tr>\n",
       "    <tr>\n",
       "      <th>min</th>\n",
       "      <td>0.000000</td>\n",
       "      <td>0.000000</td>\n",
       "      <td>0.000000</td>\n",
       "      <td>0.000000</td>\n",
       "      <td>0.000000</td>\n",
       "      <td>0.000000</td>\n",
       "      <td>0.000000</td>\n",
       "      <td>0.000000</td>\n",
       "      <td>0.000000</td>\n",
       "      <td>0.000000</td>\n",
       "      <td>0.000000</td>\n",
       "      <td>0.000000</td>\n",
       "      <td>0.000000</td>\n",
       "      <td>0.000000</td>\n",
       "      <td>0.000000</td>\n",
       "      <td>0.000000</td>\n",
       "      <td>10.000000</td>\n",
       "      <td>16.000000</td>\n",
       "      <td>13.500000</td>\n",
       "    </tr>\n",
       "    <tr>\n",
       "      <th>25%</th>\n",
       "      <td>0.000000</td>\n",
       "      <td>0.000000</td>\n",
       "      <td>0.000000</td>\n",
       "      <td>0.000000</td>\n",
       "      <td>0.000000</td>\n",
       "      <td>0.000000</td>\n",
       "      <td>0.000000</td>\n",
       "      <td>0.000000</td>\n",
       "      <td>0.000000</td>\n",
       "      <td>0.000000</td>\n",
       "      <td>0.000000</td>\n",
       "      <td>0.000000</td>\n",
       "      <td>0.000000</td>\n",
       "      <td>0.000000</td>\n",
       "      <td>0.000000</td>\n",
       "      <td>0.000000</td>\n",
       "      <td>56.750000</td>\n",
       "      <td>100.000000</td>\n",
       "      <td>79.375000</td>\n",
       "    </tr>\n",
       "    <tr>\n",
       "      <th>50%</th>\n",
       "      <td>1.000000</td>\n",
       "      <td>0.000000</td>\n",
       "      <td>0.000000</td>\n",
       "      <td>1.000000</td>\n",
       "      <td>1.000000</td>\n",
       "      <td>0.000000</td>\n",
       "      <td>0.000000</td>\n",
       "      <td>0.000000</td>\n",
       "      <td>0.000000</td>\n",
       "      <td>0.000000</td>\n",
       "      <td>0.000000</td>\n",
       "      <td>0.000000</td>\n",
       "      <td>0.000000</td>\n",
       "      <td>0.000000</td>\n",
       "      <td>0.000000</td>\n",
       "      <td>0.000000</td>\n",
       "      <td>74.000000</td>\n",
       "      <td>127.000000</td>\n",
       "      <td>100.500000</td>\n",
       "    </tr>\n",
       "    <tr>\n",
       "      <th>75%</th>\n",
       "      <td>1.000000</td>\n",
       "      <td>1.000000</td>\n",
       "      <td>1.000000</td>\n",
       "      <td>1.000000</td>\n",
       "      <td>1.000000</td>\n",
       "      <td>0.000000</td>\n",
       "      <td>0.000000</td>\n",
       "      <td>0.000000</td>\n",
       "      <td>0.000000</td>\n",
       "      <td>0.000000</td>\n",
       "      <td>0.000000</td>\n",
       "      <td>0.000000</td>\n",
       "      <td>0.000000</td>\n",
       "      <td>0.000000</td>\n",
       "      <td>0.000000</td>\n",
       "      <td>0.000000</td>\n",
       "      <td>93.000000</td>\n",
       "      <td>154.000000</td>\n",
       "      <td>124.000000</td>\n",
       "    </tr>\n",
       "    <tr>\n",
       "      <th>max</th>\n",
       "      <td>1.000000</td>\n",
       "      <td>1.000000</td>\n",
       "      <td>1.000000</td>\n",
       "      <td>1.000000</td>\n",
       "      <td>1.000000</td>\n",
       "      <td>1.000000</td>\n",
       "      <td>1.000000</td>\n",
       "      <td>1.000000</td>\n",
       "      <td>1.000000</td>\n",
       "      <td>1.000000</td>\n",
       "      <td>1.000000</td>\n",
       "      <td>1.000000</td>\n",
       "      <td>1.000000</td>\n",
       "      <td>1.000000</td>\n",
       "      <td>1.000000</td>\n",
       "      <td>1.000000</td>\n",
       "      <td>202.000000</td>\n",
       "      <td>306.000000</td>\n",
       "      <td>254.000000</td>\n",
       "    </tr>\n",
       "  </tbody>\n",
       "</table>\n",
       "</div>"
      ],
      "text/plain": [
       "           Python       spark         aws       excel         sql         sas  \\\n",
       "count  372.000000  372.000000  372.000000  372.000000  372.000000  372.000000   \n",
       "mean     0.663978    0.287634    0.258065    0.537634    0.645161    0.110215   \n",
       "std      0.472982    0.453269    0.438159    0.499253    0.479109    0.313579   \n",
       "min      0.000000    0.000000    0.000000    0.000000    0.000000    0.000000   \n",
       "25%      0.000000    0.000000    0.000000    0.000000    0.000000    0.000000   \n",
       "50%      1.000000    0.000000    0.000000    1.000000    1.000000    0.000000   \n",
       "75%      1.000000    1.000000    1.000000    1.000000    1.000000    0.000000   \n",
       "max      1.000000    1.000000    1.000000    1.000000    1.000000    1.000000   \n",
       "\n",
       "            keras     pytorch      scikit      tensor      hadoop     tableau  \\\n",
       "count  372.000000  372.000000  372.000000  372.000000  372.000000  372.000000   \n",
       "mean     0.051075    0.061828    0.099462    0.126344    0.206989    0.244624   \n",
       "std      0.220448    0.241167    0.299685    0.332684    0.405693    0.430443   \n",
       "min      0.000000    0.000000    0.000000    0.000000    0.000000    0.000000   \n",
       "25%      0.000000    0.000000    0.000000    0.000000    0.000000    0.000000   \n",
       "50%      0.000000    0.000000    0.000000    0.000000    0.000000    0.000000   \n",
       "75%      0.000000    0.000000    0.000000    0.000000    0.000000    0.000000   \n",
       "max      1.000000    1.000000    1.000000    1.000000    1.000000    1.000000   \n",
       "\n",
       "               bi       flink       mongo   google_an  Lowest Salary  \\\n",
       "count  372.000000  372.000000  372.000000  372.000000     372.000000   \n",
       "mean     0.096774    0.021505    0.061828    0.021505      77.655914   \n",
       "std      0.296048    0.145257    0.241167    0.145257      30.495458   \n",
       "min      0.000000    0.000000    0.000000    0.000000      10.000000   \n",
       "25%      0.000000    0.000000    0.000000    0.000000      56.750000   \n",
       "50%      0.000000    0.000000    0.000000    0.000000      74.000000   \n",
       "75%      0.000000    0.000000    0.000000    0.000000      93.000000   \n",
       "max      1.000000    1.000000    1.000000    1.000000     202.000000   \n",
       "\n",
       "       Highest Salary  Average Salary  \n",
       "count      372.000000      372.000000  \n",
       "mean       130.994624      104.325269  \n",
       "std         44.247649       36.912537  \n",
       "min         16.000000       13.500000  \n",
       "25%        100.000000       79.375000  \n",
       "50%        127.000000      100.500000  \n",
       "75%        154.000000      124.000000  \n",
       "max        306.000000      254.000000  "
      ]
     },
     "execution_count": 18,
     "metadata": {},
     "output_type": "execute_result"
    }
   ],
   "source": [
    "#Check numerical variables\n",
    "df.describe(include = np.number)"
   ]
  },
  {
   "cell_type": "markdown",
   "id": "a5ae993a",
   "metadata": {},
   "source": [
    "# Salaries, Number Of Jobs"
   ]
  },
  {
   "cell_type": "code",
   "execution_count": 19,
   "id": "0e1f503a",
   "metadata": {},
   "outputs": [
    {
     "data": {
      "text/plain": [
       "job_title_sim\n",
       "Machine Learning Engineer    128.045455\n",
       "Data Scientist               116.336493\n",
       "Data Engineer                102.866667\n",
       "Data Analyst                  68.513333\n",
       "Name: Average Salary, dtype: float64"
      ]
     },
     "execution_count": 19,
     "metadata": {},
     "output_type": "execute_result"
    }
   ],
   "source": [
    "#Let's find out average salaries for every job title.\n",
    "avg_salaries = df.groupby('job_title_sim')[\"Average Salary\"].mean()\n",
    "avg_salaries.sort_values(ascending = False).head(len(df[\"job_title_sim\"].unique()))"
   ]
  },
  {
   "cell_type": "code",
   "execution_count": 20,
   "id": "ffdb0a4f",
   "metadata": {},
   "outputs": [
    {
     "data": {
      "image/png": "[encoded data removed]",
      "text/plain": [
       "<Figure size 1080x360 with 1 Axes>"
      ]
     },
     "metadata": {
      "needs_background": "light"
     },
     "output_type": "display_data"
    }
   ],
   "source": [
    "plt.figure(figsize=(15,5))\n",
    "sns.barplot(x = 'job_title_sim', y = 'Average Salary', data = df, palette = 'viridis')\n",
    "plt.xlabel(\"Job Titles\")\n",
    "plt.ylabel(\"Average Salaries\")\n",
    "sns.despine()"
   ]
  },
  {
   "cell_type": "markdown",
   "id": "f554df65",
   "metadata": {},
   "source": [
    " "
   ]
  },
  {
   "cell_type": "markdown",
   "id": "851603cc",
   "metadata": {},
   "source": [
    "As a result, we can see that machine learning engineers are earning most and data scientist follow them."
   ]
  },
  {
   "cell_type": "markdown",
   "id": "3010c712",
   "metadata": {},
   "source": [
    " "
   ]
  },
  {
   "cell_type": "code",
   "execution_count": 21,
   "id": "535b8776",
   "metadata": {},
   "outputs": [
    {
     "data": {
      "text/plain": [
       "Data Scientist               211\n",
       "Data Analyst                  75\n",
       "Data Engineer                 75\n",
       "Machine Learning Engineer     11\n",
       "Name: job_title_sim, dtype: int64"
      ]
     },
     "execution_count": 21,
     "metadata": {},
     "output_type": "execute_result"
    }
   ],
   "source": [
    "#Let's find out number of jobs for every job title.\n",
    "df['job_title_sim'].value_counts().head()"
   ]
  },
  {
   "cell_type": "code",
   "execution_count": 22,
   "id": "ab287299",
   "metadata": {},
   "outputs": [
    {
     "data": {
      "image/png": "[encoded data removed]",
      "text/plain": [
       "<Figure size 1080x360 with 1 Axes>"
      ]
     },
     "metadata": {
      "needs_background": "light"
     },
     "output_type": "display_data"
    }
   ],
   "source": [
    "plt.figure(figsize=(15,5))\n",
    "sns.countplot(x = 'job_title_sim', data = df, palette = 'viridis')\n",
    "plt.xlabel(\"Job Titles\")\n",
    "plt.ylabel(\"Number of Jobs\")\n",
    "sns.despine()"
   ]
  },
  {
   "cell_type": "markdown",
   "id": "284a9123",
   "metadata": {},
   "source": [
    " "
   ]
  },
  {
   "cell_type": "markdown",
   "id": "0410647c",
   "metadata": {},
   "source": [
    "As a result, we can see that there are by far the most data scientists."
   ]
  },
  {
   "cell_type": "markdown",
   "id": "a8b4b7a8",
   "metadata": {},
   "source": [
    " "
   ]
  },
  {
   "cell_type": "code",
   "execution_count": 23,
   "id": "eef77f1e",
   "metadata": {},
   "outputs": [
    {
     "data": {
      "text/plain": [
       "Text(0, 0.5, 'Job Titles')"
      ]
     },
     "execution_count": 23,
     "metadata": {},
     "output_type": "execute_result"
    },
    {
     "data": {
      "image/png": "[encoded data removed]",
      "text/plain": [
       "<Figure size 720x720 with 1 Axes>"
      ]
     },
     "metadata": {},
     "output_type": "display_data"
    }
   ],
   "source": [
    "#Let's see the ratios of job types via pie chart.\n",
    "df['job_title_sim'].value_counts().plot.pie(title = 'Percentage Of Jobs', \n",
    "                                                           figsize=(10,10), \n",
    "                                                           autopct='%1.1f%%'\n",
    "                                                          )\n",
    "plt.ylabel(\"Job Titles\")"
   ]
  },
  {
   "cell_type": "markdown",
   "id": "d87954d7",
   "metadata": {},
   "source": [
    "# Job Types and Their Skill Requirments"
   ]
  },
  {
   "cell_type": "code",
   "execution_count": 24,
   "id": "2e4034b6",
   "metadata": {},
   "outputs": [],
   "source": [
    "#Let's discover which skills are mostly required for spesific job positions.\n",
    "#We need to create new dataframe for our matrix plot.\n",
    "#First, we need to find the ratio of what skills are required for each job type and save them in a 2-d list.\n",
    "my_skill_list_row = []\n",
    "my_skill_list_col = []\n",
    "\n",
    "skill_start_index = 5\n",
    "skill_end_index = 21\n",
    "\n",
    "job_titles = pd.unique(df['job_title_sim'])\n",
    "\n",
    "for job in range(len(job_titles)):\n",
    "    for col_num in range(skill_start_index, skill_end_index):\n",
    "        my_skill_list_col.append(df[(df[\"job_title_sim\"] == job_titles[job])].iloc[:,col_num].mean())\n",
    "    my_skill_list_row.append(my_skill_list_col) \n",
    "    my_skill_list_col = []\n",
    "\n",
    "skill_array = np.array(my_skill_list_row)"
   ]
  },
  {
   "cell_type": "code",
   "execution_count": 25,
   "id": "8d87c153",
   "metadata": {},
   "outputs": [],
   "source": [
    "#List is ready! Now let's create dataframe and check it out.\n",
    "skills_df = pd.DataFrame(skill_array, index = job_titles,\n",
    "                        columns = list(df.columns)[skill_start_index:skill_end_index]\n",
    "                        )"
   ]
  },
  {
   "cell_type": "code",
   "execution_count": 26,
   "id": "860dec1a",
   "metadata": {},
   "outputs": [
    {
     "data": {
      "text/html": [
       "<div>\n",
       "<style scoped>\n",
       "    .dataframe tbody tr th:only-of-type {\n",
       "        vertical-align: middle;\n",
       "    }\n",
       "\n",
       "    .dataframe tbody tr th {\n",
       "        vertical-align: top;\n",
       "    }\n",
       "\n",
       "    .dataframe thead th {\n",
       "        text-align: right;\n",
       "    }\n",
       "</style>\n",
       "<table border=\"1\" class=\"dataframe\">\n",
       "  <thead>\n",
       "    <tr style=\"text-align: right;\">\n",
       "      <th></th>\n",
       "      <th>Python</th>\n",
       "      <th>spark</th>\n",
       "      <th>aws</th>\n",
       "      <th>excel</th>\n",
       "      <th>sql</th>\n",
       "      <th>sas</th>\n",
       "      <th>keras</th>\n",
       "      <th>pytorch</th>\n",
       "      <th>scikit</th>\n",
       "      <th>tensor</th>\n",
       "      <th>hadoop</th>\n",
       "      <th>tableau</th>\n",
       "      <th>bi</th>\n",
       "      <th>flink</th>\n",
       "      <th>mongo</th>\n",
       "      <th>google_an</th>\n",
       "    </tr>\n",
       "  </thead>\n",
       "  <tbody>\n",
       "    <tr>\n",
       "      <th>Data Scientist</th>\n",
       "      <td>0.772512</td>\n",
       "      <td>0.279621</td>\n",
       "      <td>0.232227</td>\n",
       "      <td>0.497630</td>\n",
       "      <td>0.573460</td>\n",
       "      <td>0.161137</td>\n",
       "      <td>0.090047</td>\n",
       "      <td>0.094787</td>\n",
       "      <td>0.156398</td>\n",
       "      <td>0.194313</td>\n",
       "      <td>0.194313</td>\n",
       "      <td>0.246445</td>\n",
       "      <td>0.090047</td>\n",
       "      <td>0.014218</td>\n",
       "      <td>0.061611</td>\n",
       "      <td>0.014218</td>\n",
       "    </tr>\n",
       "    <tr>\n",
       "      <th>Data Analyst</th>\n",
       "      <td>0.346667</td>\n",
       "      <td>0.053333</td>\n",
       "      <td>0.106667</td>\n",
       "      <td>0.746667</td>\n",
       "      <td>0.746667</td>\n",
       "      <td>0.080000</td>\n",
       "      <td>0.000000</td>\n",
       "      <td>0.000000</td>\n",
       "      <td>0.000000</td>\n",
       "      <td>0.000000</td>\n",
       "      <td>0.026667</td>\n",
       "      <td>0.400000</td>\n",
       "      <td>0.186667</td>\n",
       "      <td>0.000000</td>\n",
       "      <td>0.026667</td>\n",
       "      <td>0.066667</td>\n",
       "    </tr>\n",
       "    <tr>\n",
       "      <th>Data Engineer</th>\n",
       "      <td>0.640000</td>\n",
       "      <td>0.560000</td>\n",
       "      <td>0.466667</td>\n",
       "      <td>0.466667</td>\n",
       "      <td>0.746667</td>\n",
       "      <td>0.013333</td>\n",
       "      <td>0.000000</td>\n",
       "      <td>0.000000</td>\n",
       "      <td>0.000000</td>\n",
       "      <td>0.013333</td>\n",
       "      <td>0.426667</td>\n",
       "      <td>0.120000</td>\n",
       "      <td>0.040000</td>\n",
       "      <td>0.066667</td>\n",
       "      <td>0.106667</td>\n",
       "      <td>0.000000</td>\n",
       "    </tr>\n",
       "    <tr>\n",
       "      <th>Machine Learning Engineer</th>\n",
       "      <td>0.909091</td>\n",
       "      <td>0.181818</td>\n",
       "      <td>0.363636</td>\n",
       "      <td>0.363636</td>\n",
       "      <td>0.636364</td>\n",
       "      <td>0.000000</td>\n",
       "      <td>0.000000</td>\n",
       "      <td>0.272727</td>\n",
       "      <td>0.363636</td>\n",
       "      <td>0.454545</td>\n",
       "      <td>0.181818</td>\n",
       "      <td>0.000000</td>\n",
       "      <td>0.000000</td>\n",
       "      <td>0.000000</td>\n",
       "      <td>0.000000</td>\n",
       "      <td>0.000000</td>\n",
       "    </tr>\n",
       "  </tbody>\n",
       "</table>\n",
       "</div>"
      ],
      "text/plain": [
       "                             Python     spark       aws     excel       sql  \\\n",
       "Data Scientist             0.772512  0.279621  0.232227  0.497630  0.573460   \n",
       "Data Analyst               0.346667  0.053333  0.106667  0.746667  0.746667   \n",
       "Data Engineer              0.640000  0.560000  0.466667  0.466667  0.746667   \n",
       "Machine Learning Engineer  0.909091  0.181818  0.363636  0.363636  0.636364   \n",
       "\n",
       "                                sas     keras   pytorch    scikit    tensor  \\\n",
       "Data Scientist             0.161137  0.090047  0.094787  0.156398  0.194313   \n",
       "Data Analyst               0.080000  0.000000  0.000000  0.000000  0.000000   \n",
       "Data Engineer              0.013333  0.000000  0.000000  0.000000  0.013333   \n",
       "Machine Learning Engineer  0.000000  0.000000  0.272727  0.363636  0.454545   \n",
       "\n",
       "                             hadoop   tableau        bi     flink     mongo  \\\n",
       "Data Scientist             0.194313  0.246445  0.090047  0.014218  0.061611   \n",
       "Data Analyst               0.026667  0.400000  0.186667  0.000000  0.026667   \n",
       "Data Engineer              0.426667  0.120000  0.040000  0.066667  0.106667   \n",
       "Machine Learning Engineer  0.181818  0.000000  0.000000  0.000000  0.000000   \n",
       "\n",
       "                           google_an  \n",
       "Data Scientist              0.014218  \n",
       "Data Analyst                0.066667  \n",
       "Data Engineer               0.000000  \n",
       "Machine Learning Engineer   0.000000  "
      ]
     },
     "execution_count": 26,
     "metadata": {},
     "output_type": "execute_result"
    }
   ],
   "source": [
    "skills_df"
   ]
  },
  {
   "cell_type": "code",
   "execution_count": 27,
   "id": "e1610e19",
   "metadata": {},
   "outputs": [
    {
     "data": {
      "text/plain": [
       "<AxesSubplot:>"
      ]
     },
     "execution_count": 27,
     "metadata": {},
     "output_type": "execute_result"
    },
    {
     "data": {
      "image/png": "[encoded data removed]",
      "text/plain": [
       "<Figure size 1440x360 with 2 Axes>"
      ]
     },
     "metadata": {
      "needs_background": "light"
     },
     "output_type": "display_data"
    }
   ],
   "source": [
    "# Here is the heatmap that shows us which skill mostly required for different job positions.\n",
    "plt.figure(figsize=(20,5))\n",
    "sns.heatmap(skills_df, cmap = 'coolwarm', linecolor = 'white', linewidths = 5)"
   ]
  },
  {
   "cell_type": "markdown",
   "id": "0b589f53",
   "metadata": {},
   "source": [
    " "
   ]
  },
  {
   "cell_type": "markdown",
   "id": "68b38b81",
   "metadata": {},
   "source": [
    "Machine Learning Engineer: Python: %90.9, SQL: %63.6, tensor: %45.45 "
   ]
  },
  {
   "cell_type": "markdown",
   "id": "b64b03af",
   "metadata": {},
   "source": [
    "Data Engineer: SQL: %74.6, Python: %64, spark: %56"
   ]
  },
  {
   "cell_type": "markdown",
   "id": "db8cbc42",
   "metadata": {},
   "source": [
    "Data Analyst: Excel: %74.6, SQL: %74.6, tableau: %40"
   ]
  },
  {
   "cell_type": "markdown",
   "id": "6603e4eb",
   "metadata": {},
   "source": [
    "Data Scientist: Python: %77.2, SQL: %57.3, Excel: %49.7"
   ]
  },
  {
   "cell_type": "markdown",
   "id": "d9ee5eb3",
   "metadata": {},
   "source": [
    " "
   ]
  },
  {
   "cell_type": "code",
   "execution_count": 28,
   "id": "407c1749",
   "metadata": {},
   "outputs": [
    {
     "data": {
      "text/plain": [
       "<seaborn.matrix.ClusterGrid at 0x1c81cf8c040>"
      ]
     },
     "execution_count": 28,
     "metadata": {},
     "output_type": "execute_result"
    },
    {
     "data": {
      "image/png": "[encoded data removed]",
      "text/plain": [
       "<Figure size 1152x720 with 4 Axes>"
      ]
     },
     "metadata": {
      "needs_background": "light"
     },
     "output_type": "display_data"
    }
   ],
   "source": [
    "#Here is the clustermap for job types and their skill requirments.\n",
    "sns.clustermap(skills_df, cmap = 'coolwarm', figsize = (16, 10))"
   ]
  },
  {
   "cell_type": "markdown",
   "id": "99f8c645",
   "metadata": {},
   "source": [
    " "
   ]
  },
  {
   "cell_type": "markdown",
   "id": "189df0be",
   "metadata": {},
   "source": [
    " "
   ]
  },
  {
   "cell_type": "markdown",
   "id": "45c33a9c",
   "metadata": {},
   "source": [
    "# Map Visualization to Show Job Locations"
   ]
  },
  {
   "cell_type": "code",
   "execution_count": 29,
   "id": "9247e9a5",
   "metadata": {},
   "outputs": [
    {
     "data": {
      "text/plain": [
       "Location Code\n",
       "AL     4\n",
       "AZ     6\n",
       "CA    83\n",
       "CO     6\n",
       "CT     2\n",
       "DC     9\n",
       "FL     9\n",
       "GA     2\n",
       "IA     3\n",
       "ID     2\n",
       "IL    21\n",
       "IN     6\n",
       "KS     1\n",
       "KY     1\n",
       "LA     2\n",
       "MA    32\n",
       "MD    13\n",
       "MI     3\n",
       "MN     2\n",
       "MO     3\n",
       "NC     6\n",
       "NJ    11\n",
       "NM     2\n",
       "NY    42\n",
       "OH     7\n",
       "OR     3\n",
       "PA    15\n",
       "RI     1\n",
       "TN     7\n",
       "TX    14\n",
       "UT     6\n",
       "VA    30\n",
       "WA    14\n",
       "WI     4\n",
       "Name: Location Code, dtype: int64"
      ]
     },
     "execution_count": 29,
     "metadata": {},
     "output_type": "execute_result"
    }
   ],
   "source": [
    "#Let's start with exploring unique locations and see how many of them.\n",
    "df.groupby('Location Code')['Location Code'].count()"
   ]
  },
  {
   "cell_type": "code",
   "execution_count": 30,
   "id": "6ade94a2",
   "metadata": {},
   "outputs": [
    {
     "data": {
      "text/html": [
       "<div>\n",
       "<style scoped>\n",
       "    .dataframe tbody tr th:only-of-type {\n",
       "        vertical-align: middle;\n",
       "    }\n",
       "\n",
       "    .dataframe tbody tr th {\n",
       "        vertical-align: top;\n",
       "    }\n",
       "\n",
       "    .dataframe thead th {\n",
       "        text-align: right;\n",
       "    }\n",
       "</style>\n",
       "<table border=\"1\" class=\"dataframe\">\n",
       "  <thead>\n",
       "    <tr style=\"text-align: right;\">\n",
       "      <th></th>\n",
       "      <th>Location Code</th>\n",
       "      <th>Number Of Jobs</th>\n",
       "    </tr>\n",
       "  </thead>\n",
       "  <tbody>\n",
       "    <tr>\n",
       "      <th>0</th>\n",
       "      <td>AL</td>\n",
       "      <td>4</td>\n",
       "    </tr>\n",
       "    <tr>\n",
       "      <th>1</th>\n",
       "      <td>AZ</td>\n",
       "      <td>6</td>\n",
       "    </tr>\n",
       "    <tr>\n",
       "      <th>2</th>\n",
       "      <td>CA</td>\n",
       "      <td>83</td>\n",
       "    </tr>\n",
       "    <tr>\n",
       "      <th>3</th>\n",
       "      <td>CO</td>\n",
       "      <td>6</td>\n",
       "    </tr>\n",
       "    <tr>\n",
       "      <th>4</th>\n",
       "      <td>CT</td>\n",
       "      <td>2</td>\n",
       "    </tr>\n",
       "  </tbody>\n",
       "</table>\n",
       "</div>"
      ],
      "text/plain": [
       "  Location Code  Number Of Jobs\n",
       "0            AL               4\n",
       "1            AZ               6\n",
       "2            CA              83\n",
       "3            CO               6\n",
       "4            CT               2"
      ]
     },
     "execution_count": 30,
     "metadata": {},
     "output_type": "execute_result"
    }
   ],
   "source": [
    "#We need to assign these location codes and number of jobs in these states to new dataframe.\n",
    "df_locations = pd.DataFrame({'Number Of Jobs': df.groupby([\"Location Code\"]).size()}).reset_index()\n",
    "df_locations.head()"
   ]
  },
  {
   "cell_type": "code",
   "execution_count": 31,
   "id": "d219f0b7",
   "metadata": {},
   "outputs": [],
   "source": [
    "#Let's arrange colors of our map and data information.\n",
    "map_data = dict(type = 'choropleth',\n",
    "               locations = df_locations['Location Code'],\n",
    "               locationmode = 'USA-states',\n",
    "               z = df_locations['Number Of Jobs'],\n",
    "               colorscale = 'ylorbr',\n",
    "               marker = dict(line = dict(color = 'rgb(255,255,255)',width = 2)),\n",
    "               text = df_locations['Location Code'],\n",
    "               colorbar = {'title': 'Job Number in State'})"
   ]
  },
  {
   "cell_type": "code",
   "execution_count": 32,
   "id": "7668a76a",
   "metadata": {},
   "outputs": [],
   "source": [
    "map_layout = dict(title = 'Number of Jobs in Data Field in USA States',\n",
    "              geo = dict(scope='usa',\n",
    "                         showlakes = True,\n",
    "                         lakecolor = 'rgb(85,173,240)')\n",
    "                 )"
   ]
  },
  {
   "cell_type": "code",
   "execution_count": 33,
   "id": "dd68c118",
   "metadata": {},
   "outputs": [],
   "source": [
    "choromap = go.Figure(data = [map_data], layout = map_layout)"
   ]
  },
  {
   "cell_type": "code",
   "execution_count": 34,
   "id": "84bd50a6",
   "metadata": {},
   "outputs": [
    {
     "data": {
      "application/vnd.plotly.v1+json": {
       "config": {
        "linkText": "Export to plot.ly",
        "plotlyServerURL": "https://plot.ly",
        "showLink": false
       },
       "data": [
        {
         "colorbar": {
          "title": {
           "text": "Job Number in State"
          }
         },
         "colorscale": [
          [
           0,
           "rgb(255,255,229)"
          ],
          [
           0.125,
           "rgb(255,247,188)"
          ],
          [
           0.25,
           "rgb(254,227,145)"
          ],
          [
           0.375,
           "rgb(254,196,79)"
          ],
          [
           0.5,
           "rgb(254,153,41)"
          ],
          [
           0.625,
           "rgb(236,112,20)"
          ],
          [
           0.75,
           "rgb(204,76,2)"
          ],
          [
           0.875,
           "rgb(153,52,4)"
          ],
          [
           1,
           "rgb(102,37,6)"
          ]
         ],
         "locationmode": "USA-states",
         "locations": [
          "AL",
          "AZ",
          "CA",
          "CO",
          "CT",
          "DC",
          "FL",
          "GA",
          "IA",
          "ID",
          "IL",
          "IN",
          "KS",
          "KY",
          "LA",
          "MA",
          "MD",
          "MI",
          "MN",
          "MO",
          "NC",
          "NJ",
          "NM",
          "NY",
          "OH",
          "OR",
          "PA",
          "RI",
          "TN",
          "TX",
          "UT",
          "VA",
          "WA",
          "WI"
         ],
         "marker": {
          "line": {
           "color": "rgb(255,255,255)",
           "width": 2
          }
         },
         "text": [
          "AL",
          "AZ",
          "CA",
          "CO",
          "CT",
          "DC",
          "FL",
          "GA",
          "IA",
          "ID",
          "IL",
          "IN",
          "KS",
          "KY",
          "LA",
          "MA",
          "MD",
          "MI",
          "MN",
          "MO",
          "NC",
          "NJ",
          "NM",
          "NY",
          "OH",
          "OR",
          "PA",
          "RI",
          "TN",
          "TX",
          "UT",
          "VA",
          "WA",
          "WI"
         ],
         "type": "choropleth",
         "z": [
          4,
          6,
          83,
          6,
          2,
          9,
          9,
          2,
          3,
          2,
          21,
          6,
          1,
          1,
          2,
          32,
          13,
          3,
          2,
          3,
          6,
          11,
          2,
          42,
          7,
          3,
          15,
          1,
          7,
          14,
          6,
          30,
          14,
          4
         ]
        }
       ],
       "layout": {
        "geo": {
         "lakecolor": "rgb(85,173,240)",
         "scope": "usa",
         "showlakes": true
        },
        "template": {
         "data": {
          "bar": [
           {
            "error_x": {
             "color": "#2a3f5f"
            },
            "error_y": {
             "color": "#2a3f5f"
            },
            "marker": {
             "line": {
              "color": "#E5ECF6",
              "width": 0.5
             },
             "pattern": {
              "fillmode": "overlay",
              "size": 10,
              "solidity": 0.2
             }
            },
            "type": "bar"
           }
          ],
          "barpolar": [
           {
            "marker": {
             "line": {
              "color": "#E5ECF6",
              "width": 0.5
             },
             "pattern": {
              "fillmode": "overlay",
              "size": 10,
              "solidity": 0.2
             }
            },
            "type": "barpolar"
           }
          ],
          "carpet": [
           {
            "aaxis": {
             "endlinecolor": "#2a3f5f",
             "gridcolor": "white",
             "linecolor": "white",
             "minorgridcolor": "white",
             "startlinecolor": "#2a3f5f"
            },
            "baxis": {
             "endlinecolor": "#2a3f5f",
             "gridcolor": "white",
             "linecolor": "white",
             "minorgridcolor": "white",
             "startlinecolor": "#2a3f5f"
            },
            "type": "carpet"
           }
          ],
          "choropleth": [
           {
            "colorbar": {
             "outlinewidth": 0,
             "ticks": ""
            },
            "type": "choropleth"
           }
          ],
          "contour": [
           {
            "colorbar": {
             "outlinewidth": 0,
             "ticks": ""
            },
            "colorscale": [
             [
              0,
              "#0d0887"
             ],
             [
              0.1111111111111111,
              "#46039f"
             ],
             [
              0.2222222222222222,
              "#7201a8"
             ],
             [
              0.3333333333333333,
              "#9c179e"
             ],
             [
              0.4444444444444444,
              "#bd3786"
             ],
             [
              0.5555555555555556,
              "#d8576b"
             ],
             [
              0.6666666666666666,
              "#ed7953"
             ],
             [
              0.7777777777777778,
              "#fb9f3a"
             ],
             [
              0.8888888888888888,
              "#fdca26"
             ],
             [
              1,
              "#f0f921"
             ]
            ],
            "type": "contour"
           }
          ],
          "contourcarpet": [
           {
            "colorbar": {
             "outlinewidth": 0,
             "ticks": ""
            },
            "type": "contourcarpet"
           }
          ],
          "heatmap": [
           {
            "colorbar": {
             "outlinewidth": 0,
             "ticks": ""
            },
            "colorscale": [
             [
              0,
              "#0d0887"
             ],
             [
              0.1111111111111111,
              "#46039f"
             ],
             [
              0.2222222222222222,
              "#7201a8"
             ],
             [
              0.3333333333333333,
              "#9c179e"
             ],
             [
              0.4444444444444444,
              "#bd3786"
             ],
             [
              0.5555555555555556,
              "#d8576b"
             ],
             [
              0.6666666666666666,
              "#ed7953"
             ],
             [
              0.7777777777777778,
              "#fb9f3a"
             ],
             [
              0.8888888888888888,
              "#fdca26"
             ],
             [
              1,
              "#f0f921"
             ]
            ],
            "type": "heatmap"
           }
          ],
          "heatmapgl": [
           {
            "colorbar": {
             "outlinewidth": 0,
             "ticks": ""
            },
            "colorscale": [
             [
              0,
              "#0d0887"
             ],
             [
              0.1111111111111111,
              "#46039f"
             ],
             [
              0.2222222222222222,
              "#7201a8"
             ],
             [
              0.3333333333333333,
              "#9c179e"
             ],
             [
              0.4444444444444444,
              "#bd3786"
             ],
             [
              0.5555555555555556,
              "#d8576b"
             ],
             [
              0.6666666666666666,
              "#ed7953"
             ],
             [
              0.7777777777777778,
              "#fb9f3a"
             ],
             [
              0.8888888888888888,
              "#fdca26"
             ],
             [
              1,
              "#f0f921"
             ]
            ],
            "type": "heatmapgl"
           }
          ],
          "histogram": [
           {
            "marker": {
             "pattern": {
              "fillmode": "overlay",
              "size": 10,
              "solidity": 0.2
             }
            },
            "type": "histogram"
           }
          ],
          "histogram2d": [
           {
            "colorbar": {
             "outlinewidth": 0,
             "ticks": ""
            },
            "colorscale": [
             [
              0,
              "#0d0887"
             ],
             [
              0.1111111111111111,
              "#46039f"
             ],
             [
              0.2222222222222222,
              "#7201a8"
             ],
             [
              0.3333333333333333,
              "#9c179e"
             ],
             [
              0.4444444444444444,
              "#bd3786"
             ],
             [
              0.5555555555555556,
              "#d8576b"
             ],
             [
              0.6666666666666666,
              "#ed7953"
             ],
             [
              0.7777777777777778,
              "#fb9f3a"
             ],
             [
              0.8888888888888888,
              "#fdca26"
             ],
             [
              1,
              "#f0f921"
             ]
            ],
            "type": "histogram2d"
           }
          ],
          "histogram2dcontour": [
           {
            "colorbar": {
             "outlinewidth": 0,
             "ticks": ""
            },
            "colorscale": [
             [
              0,
              "#0d0887"
             ],
             [
              0.1111111111111111,
              "#46039f"
             ],
             [
              0.2222222222222222,
              "#7201a8"
             ],
             [
              0.3333333333333333,
              "#9c179e"
             ],
             [
              0.4444444444444444,
              "#bd3786"
             ],
             [
              0.5555555555555556,
              "#d8576b"
             ],
             [
              0.6666666666666666,
              "#ed7953"
             ],
             [
              0.7777777777777778,
              "#fb9f3a"
             ],
             [
              0.8888888888888888,
              "#fdca26"
             ],
             [
              1,
              "#f0f921"
             ]
            ],
            "type": "histogram2dcontour"
           }
          ],
          "mesh3d": [
           {
            "colorbar": {
             "outlinewidth": 0,
             "ticks": ""
            },
            "type": "mesh3d"
           }
          ],
          "parcoords": [
           {
            "line": {
             "colorbar": {
              "outlinewidth": 0,
              "ticks": ""
             }
            },
            "type": "parcoords"
           }
          ],
          "pie": [
           {
            "automargin": true,
            "type": "pie"
           }
          ],
          "scatter": [
           {
            "marker": {
             "colorbar": {
              "outlinewidth": 0,
              "ticks": ""
             }
            },
            "type": "scatter"
           }
          ],
          "scatter3d": [
           {
            "line": {
             "colorbar": {
              "outlinewidth": 0,
              "ticks": ""
             }
            },
            "marker": {
             "colorbar": {
              "outlinewidth": 0,
              "ticks": ""
             }
            },
            "type": "scatter3d"
           }
          ],
          "scattercarpet": [
           {
            "marker": {
             "colorbar": {
              "outlinewidth": 0,
              "ticks": ""
             }
            },
            "type": "scattercarpet"
           }
          ],
          "scattergeo": [
           {
            "marker": {
             "colorbar": {
              "outlinewidth": 0,
              "ticks": ""
             }
            },
            "type": "scattergeo"
           }
          ],
          "scattergl": [
           {
            "marker": {
             "colorbar": {
              "outlinewidth": 0,
              "ticks": ""
             }
            },
            "type": "scattergl"
           }
          ],
          "scattermapbox": [
           {
            "marker": {
             "colorbar": {
              "outlinewidth": 0,
              "ticks": ""
             }
            },
            "type": "scattermapbox"
           }
          ],
          "scatterpolar": [
           {
            "marker": {
             "colorbar": {
              "outlinewidth": 0,
              "ticks": ""
             }
            },
            "type": "scatterpolar"
           }
          ],
          "scatterpolargl": [
           {
            "marker": {
             "colorbar": {
              "outlinewidth": 0,
              "ticks": ""
             }
            },
            "type": "scatterpolargl"
           }
          ],
          "scatterternary": [
           {
            "marker": {
             "colorbar": {
              "outlinewidth": 0,
              "ticks": ""
             }
            },
            "type": "scatterternary"
           }
          ],
          "surface": [
           {
            "colorbar": {
             "outlinewidth": 0,
             "ticks": ""
            },
            "colorscale": [
             [
              0,
              "#0d0887"
             ],
             [
              0.1111111111111111,
              "#46039f"
             ],
             [
              0.2222222222222222,
              "#7201a8"
             ],
             [
              0.3333333333333333,
              "#9c179e"
             ],
             [
              0.4444444444444444,
              "#bd3786"
             ],
             [
              0.5555555555555556,
              "#d8576b"
             ],
             [
              0.6666666666666666,
              "#ed7953"
             ],
             [
              0.7777777777777778,
              "#fb9f3a"
             ],
             [
              0.8888888888888888,
              "#fdca26"
             ],
             [
              1,
              "#f0f921"
             ]
            ],
            "type": "surface"
           }
          ],
          "table": [
           {
            "cells": {
             "fill": {
              "color": "#EBF0F8"
             },
             "line": {
              "color": "white"
             }
            },
            "header": {
             "fill": {
              "color": "#C8D4E3"
             },
             "line": {
              "color": "white"
             }
            },
            "type": "table"
           }
          ]
         },
         "layout": {
          "annotationdefaults": {
           "arrowcolor": "#2a3f5f",
           "arrowhead": 0,
           "arrowwidth": 1
          },
          "autotypenumbers": "strict",
          "coloraxis": {
           "colorbar": {
            "outlinewidth": 0,
            "ticks": ""
           }
          },
          "colorscale": {
           "diverging": [
            [
             0,
             "#8e0152"
            ],
            [
             0.1,
             "#c51b7d"
            ],
            [
             0.2,
             "#de77ae"
            ],
            [
             0.3,
             "#f1b6da"
            ],
            [
             0.4,
             "#fde0ef"
            ],
            [
             0.5,
             "#f7f7f7"
            ],
            [
             0.6,
             "#e6f5d0"
            ],
            [
             0.7,
             "#b8e186"
            ],
            [
             0.8,
             "#7fbc41"
            ],
            [
             0.9,
             "#4d9221"
            ],
            [
             1,
             "#276419"
            ]
           ],
           "sequential": [
            [
             0,
             "#0d0887"
            ],
            [
             0.1111111111111111,
             "#46039f"
            ],
            [
             0.2222222222222222,
             "#7201a8"
            ],
            [
             0.3333333333333333,
             "#9c179e"
            ],
            [
             0.4444444444444444,
             "#bd3786"
            ],
            [
             0.5555555555555556,
             "#d8576b"
            ],
            [
             0.6666666666666666,
             "#ed7953"
            ],
            [
             0.7777777777777778,
             "#fb9f3a"
            ],
            [
             0.8888888888888888,
             "#fdca26"
            ],
            [
             1,
             "#f0f921"
            ]
           ],
           "sequentialminus": [
            [
             0,
             "#0d0887"
            ],
            [
             0.1111111111111111,
             "#46039f"
            ],
            [
             0.2222222222222222,
             "#7201a8"
            ],
            [
             0.3333333333333333,
             "#9c179e"
            ],
            [
             0.4444444444444444,
             "#bd3786"
            ],
            [
             0.5555555555555556,
             "#d8576b"
            ],
            [
             0.6666666666666666,
             "#ed7953"
            ],
            [
             0.7777777777777778,
             "#fb9f3a"
            ],
            [
             0.8888888888888888,
             "#fdca26"
            ],
            [
             1,
             "#f0f921"
            ]
           ]
          },
          "colorway": [
           "#636efa",
           "#EF553B",
           "#00cc96",
           "#ab63fa",
           "#FFA15A",
           "#19d3f3",
           "#FF6692",
           "#B6E880",
           "#FF97FF",
           "#FECB52"
          ],
          "font": {
           "color": "#2a3f5f"
          },
          "geo": {
           "bgcolor": "white",
           "lakecolor": "white",
           "landcolor": "#E5ECF6",
           "showlakes": true,
           "showland": true,
           "subunitcolor": "white"
          },
          "hoverlabel": {
           "align": "left"
          },
          "hovermode": "closest",
          "mapbox": {
           "style": "light"
          },
          "paper_bgcolor": "white",
          "plot_bgcolor": "#E5ECF6",
          "polar": {
           "angularaxis": {
            "gridcolor": "white",
            "linecolor": "white",
            "ticks": ""
           },
           "bgcolor": "#E5ECF6",
           "radialaxis": {
            "gridcolor": "white",
            "linecolor": "white",
            "ticks": ""
           }
          },
          "scene": {
           "xaxis": {
            "backgroundcolor": "#E5ECF6",
            "gridcolor": "white",
            "gridwidth": 2,
            "linecolor": "white",
            "showbackground": true,
            "ticks": "",
            "zerolinecolor": "white"
           },
           "yaxis": {
            "backgroundcolor": "#E5ECF6",
            "gridcolor": "white",
            "gridwidth": 2,
            "linecolor": "white",
            "showbackground": true,
            "ticks": "",
            "zerolinecolor": "white"
           },
           "zaxis": {
            "backgroundcolor": "#E5ECF6",
            "gridcolor": "white",
            "gridwidth": 2,
            "linecolor": "white",
            "showbackground": true,
            "ticks": "",
            "zerolinecolor": "white"
           }
          },
          "shapedefaults": {
           "line": {
            "color": "#2a3f5f"
           }
          },
          "ternary": {
           "aaxis": {
            "gridcolor": "white",
            "linecolor": "white",
            "ticks": ""
           },
           "baxis": {
            "gridcolor": "white",
            "linecolor": "white",
            "ticks": ""
           },
           "bgcolor": "#E5ECF6",
           "caxis": {
            "gridcolor": "white",
            "linecolor": "white",
            "ticks": ""
           }
          },
          "title": {
           "x": 0.05
          },
          "xaxis": {
           "automargin": true,
           "gridcolor": "white",
           "linecolor": "white",
           "ticks": "",
           "title": {
            "standoff": 15
           },
           "zerolinecolor": "white",
           "zerolinewidth": 2
          },
          "yaxis": {
           "automargin": true,
           "gridcolor": "white",
           "linecolor": "white",
           "ticks": "",
           "title": {
            "standoff": 15
           },
           "zerolinecolor": "white",
           "zerolinewidth": 2
          }
         }
        },
        "title": {
         "text": "Number of Jobs in Data Field in USA States"
        }
       }
      },
      "text/html": [
       "<div>                            <div id=\"705fa82f-efb0-409d-9935-c0e6275e365e\" class=\"plotly-graph-div\" style=\"height:525px; width:100%;\"></div>            <script type=\"text/javascript\">                require([\"plotly\"], function(Plotly) {                    window.PLOTLYENV=window.PLOTLYENV || {};                                    if (document.getElementById(\"705fa82f-efb0-409d-9935-c0e6275e365e\")) {                    Plotly.newPlot(                        \"705fa82f-efb0-409d-9935-c0e6275e365e\",                        [{\"colorbar\":{\"title\":{\"text\":\"Job Number in State\"}},\"colorscale\":[[0.0,\"rgb(255,255,229)\"],[0.125,\"rgb(255,247,188)\"],[0.25,\"rgb(254,227,145)\"],[0.375,\"rgb(254,196,79)\"],[0.5,\"rgb(254,153,41)\"],[0.625,\"rgb(236,112,20)\"],[0.75,\"rgb(204,76,2)\"],[0.875,\"rgb(153,52,4)\"],[1.0,\"rgb(102,37,6)\"]],\"locationmode\":\"USA-states\",\"locations\":[\"AL\",\"AZ\",\"CA\",\"CO\",\"CT\",\"DC\",\"FL\",\"GA\",\"IA\",\"ID\",\"IL\",\"IN\",\"KS\",\"KY\",\"LA\",\"MA\",\"MD\",\"MI\",\"MN\",\"MO\",\"NC\",\"NJ\",\"NM\",\"NY\",\"OH\",\"OR\",\"PA\",\"RI\",\"TN\",\"TX\",\"UT\",\"VA\",\"WA\",\"WI\"],\"marker\":{\"line\":{\"color\":\"rgb(255,255,255)\",\"width\":2}},\"text\":[\"AL\",\"AZ\",\"CA\",\"CO\",\"CT\",\"DC\",\"FL\",\"GA\",\"IA\",\"ID\",\"IL\",\"IN\",\"KS\",\"KY\",\"LA\",\"MA\",\"MD\",\"MI\",\"MN\",\"MO\",\"NC\",\"NJ\",\"NM\",\"NY\",\"OH\",\"OR\",\"PA\",\"RI\",\"TN\",\"TX\",\"UT\",\"VA\",\"WA\",\"WI\"],\"z\":[4,6,83,6,2,9,9,2,3,2,21,6,1,1,2,32,13,3,2,3,6,11,2,42,7,3,15,1,7,14,6,30,14,4],\"type\":\"choropleth\"}],                        {\"geo\":{\"lakecolor\":\"rgb(85,173,240)\",\"scope\":\"usa\",\"showlakes\":true},\"template\":{\"data\":{\"barpolar\":[{\"marker\":{\"line\":{\"color\":\"#E5ECF6\",\"width\":0.5},\"pattern\":{\"fillmode\":\"overlay\",\"size\":10,\"solidity\":0.2}},\"type\":\"barpolar\"}],\"bar\":[{\"error_x\":{\"color\":\"#2a3f5f\"},\"error_y\":{\"color\":\"#2a3f5f\"},\"marker\":{\"line\":{\"color\":\"#E5ECF6\",\"width\":0.5},\"pattern\":{\"fillmode\":\"overlay\",\"size\":10,\"solidity\":0.2}},\"type\":\"bar\"}],\"carpet\":[{\"aaxis\":{\"endlinecolor\":\"#2a3f5f\",\"gridcolor\":\"white\",\"linecolor\":\"white\",\"minorgridcolor\":\"white\",\"startlinecolor\":\"#2a3f5f\"},\"baxis\":{\"endlinecolor\":\"#2a3f5f\",\"gridcolor\":\"white\",\"linecolor\":\"white\",\"minorgridcolor\":\"white\",\"startlinecolor\":\"#2a3f5f\"},\"type\":\"carpet\"}],\"choropleth\":[{\"colorbar\":{\"outlinewidth\":0,\"ticks\":\"\"},\"type\":\"choropleth\"}],\"contourcarpet\":[{\"colorbar\":{\"outlinewidth\":0,\"ticks\":\"\"},\"type\":\"contourcarpet\"}],\"contour\":[{\"colorbar\":{\"outlinewidth\":0,\"ticks\":\"\"},\"colorscale\":[[0.0,\"#0d0887\"],[0.1111111111111111,\"#46039f\"],[0.2222222222222222,\"#7201a8\"],[0.3333333333333333,\"#9c179e\"],[0.4444444444444444,\"#bd3786\"],[0.5555555555555556,\"#d8576b\"],[0.6666666666666666,\"#ed7953\"],[0.7777777777777778,\"#fb9f3a\"],[0.8888888888888888,\"#fdca26\"],[1.0,\"#f0f921\"]],\"type\":\"contour\"}],\"heatmapgl\":[{\"colorbar\":{\"outlinewidth\":0,\"ticks\":\"\"},\"colorscale\":[[0.0,\"#0d0887\"],[0.1111111111111111,\"#46039f\"],[0.2222222222222222,\"#7201a8\"],[0.3333333333333333,\"#9c179e\"],[0.4444444444444444,\"#bd3786\"],[0.5555555555555556,\"#d8576b\"],[0.6666666666666666,\"#ed7953\"],[0.7777777777777778,\"#fb9f3a\"],[0.8888888888888888,\"#fdca26\"],[1.0,\"#f0f921\"]],\"type\":\"heatmapgl\"}],\"heatmap\":[{\"colorbar\":{\"outlinewidth\":0,\"ticks\":\"\"},\"colorscale\":[[0.0,\"#0d0887\"],[0.1111111111111111,\"#46039f\"],[0.2222222222222222,\"#7201a8\"],[0.3333333333333333,\"#9c179e\"],[0.4444444444444444,\"#bd3786\"],[0.5555555555555556,\"#d8576b\"],[0.6666666666666666,\"#ed7953\"],[0.7777777777777778,\"#fb9f3a\"],[0.8888888888888888,\"#fdca26\"],[1.0,\"#f0f921\"]],\"type\":\"heatmap\"}],\"histogram2dcontour\":[{\"colorbar\":{\"outlinewidth\":0,\"ticks\":\"\"},\"colorscale\":[[0.0,\"#0d0887\"],[0.1111111111111111,\"#46039f\"],[0.2222222222222222,\"#7201a8\"],[0.3333333333333333,\"#9c179e\"],[0.4444444444444444,\"#bd3786\"],[0.5555555555555556,\"#d8576b\"],[0.6666666666666666,\"#ed7953\"],[0.7777777777777778,\"#fb9f3a\"],[0.8888888888888888,\"#fdca26\"],[1.0,\"#f0f921\"]],\"type\":\"histogram2dcontour\"}],\"histogram2d\":[{\"colorbar\":{\"outlinewidth\":0,\"ticks\":\"\"},\"colorscale\":[[0.0,\"#0d0887\"],[0.1111111111111111,\"#46039f\"],[0.2222222222222222,\"#7201a8\"],[0.3333333333333333,\"#9c179e\"],[0.4444444444444444,\"#bd3786\"],[0.5555555555555556,\"#d8576b\"],[0.6666666666666666,\"#ed7953\"],[0.7777777777777778,\"#fb9f3a\"],[0.8888888888888888,\"#fdca26\"],[1.0,\"#f0f921\"]],\"type\":\"histogram2d\"}],\"histogram\":[{\"marker\":{\"pattern\":{\"fillmode\":\"overlay\",\"size\":10,\"solidity\":0.2}},\"type\":\"histogram\"}],\"mesh3d\":[{\"colorbar\":{\"outlinewidth\":0,\"ticks\":\"\"},\"type\":\"mesh3d\"}],\"parcoords\":[{\"line\":{\"colorbar\":{\"outlinewidth\":0,\"ticks\":\"\"}},\"type\":\"parcoords\"}],\"pie\":[{\"automargin\":true,\"type\":\"pie\"}],\"scatter3d\":[{\"line\":{\"colorbar\":{\"outlinewidth\":0,\"ticks\":\"\"}},\"marker\":{\"colorbar\":{\"outlinewidth\":0,\"ticks\":\"\"}},\"type\":\"scatter3d\"}],\"scattercarpet\":[{\"marker\":{\"colorbar\":{\"outlinewidth\":0,\"ticks\":\"\"}},\"type\":\"scattercarpet\"}],\"scattergeo\":[{\"marker\":{\"colorbar\":{\"outlinewidth\":0,\"ticks\":\"\"}},\"type\":\"scattergeo\"}],\"scattergl\":[{\"marker\":{\"colorbar\":{\"outlinewidth\":0,\"ticks\":\"\"}},\"type\":\"scattergl\"}],\"scattermapbox\":[{\"marker\":{\"colorbar\":{\"outlinewidth\":0,\"ticks\":\"\"}},\"type\":\"scattermapbox\"}],\"scatterpolargl\":[{\"marker\":{\"colorbar\":{\"outlinewidth\":0,\"ticks\":\"\"}},\"type\":\"scatterpolargl\"}],\"scatterpolar\":[{\"marker\":{\"colorbar\":{\"outlinewidth\":0,\"ticks\":\"\"}},\"type\":\"scatterpolar\"}],\"scatter\":[{\"marker\":{\"colorbar\":{\"outlinewidth\":0,\"ticks\":\"\"}},\"type\":\"scatter\"}],\"scatterternary\":[{\"marker\":{\"colorbar\":{\"outlinewidth\":0,\"ticks\":\"\"}},\"type\":\"scatterternary\"}],\"surface\":[{\"colorbar\":{\"outlinewidth\":0,\"ticks\":\"\"},\"colorscale\":[[0.0,\"#0d0887\"],[0.1111111111111111,\"#46039f\"],[0.2222222222222222,\"#7201a8\"],[0.3333333333333333,\"#9c179e\"],[0.4444444444444444,\"#bd3786\"],[0.5555555555555556,\"#d8576b\"],[0.6666666666666666,\"#ed7953\"],[0.7777777777777778,\"#fb9f3a\"],[0.8888888888888888,\"#fdca26\"],[1.0,\"#f0f921\"]],\"type\":\"surface\"}],\"table\":[{\"cells\":{\"fill\":{\"color\":\"#EBF0F8\"},\"line\":{\"color\":\"white\"}},\"header\":{\"fill\":{\"color\":\"#C8D4E3\"},\"line\":{\"color\":\"white\"}},\"type\":\"table\"}]},\"layout\":{\"annotationdefaults\":{\"arrowcolor\":\"#2a3f5f\",\"arrowhead\":0,\"arrowwidth\":1},\"autotypenumbers\":\"strict\",\"coloraxis\":{\"colorbar\":{\"outlinewidth\":0,\"ticks\":\"\"}},\"colorscale\":{\"diverging\":[[0,\"#8e0152\"],[0.1,\"#c51b7d\"],[0.2,\"#de77ae\"],[0.3,\"#f1b6da\"],[0.4,\"#fde0ef\"],[0.5,\"#f7f7f7\"],[0.6,\"#e6f5d0\"],[0.7,\"#b8e186\"],[0.8,\"#7fbc41\"],[0.9,\"#4d9221\"],[1,\"#276419\"]],\"sequential\":[[0.0,\"#0d0887\"],[0.1111111111111111,\"#46039f\"],[0.2222222222222222,\"#7201a8\"],[0.3333333333333333,\"#9c179e\"],[0.4444444444444444,\"#bd3786\"],[0.5555555555555556,\"#d8576b\"],[0.6666666666666666,\"#ed7953\"],[0.7777777777777778,\"#fb9f3a\"],[0.8888888888888888,\"#fdca26\"],[1.0,\"#f0f921\"]],\"sequentialminus\":[[0.0,\"#0d0887\"],[0.1111111111111111,\"#46039f\"],[0.2222222222222222,\"#7201a8\"],[0.3333333333333333,\"#9c179e\"],[0.4444444444444444,\"#bd3786\"],[0.5555555555555556,\"#d8576b\"],[0.6666666666666666,\"#ed7953\"],[0.7777777777777778,\"#fb9f3a\"],[0.8888888888888888,\"#fdca26\"],[1.0,\"#f0f921\"]]},\"colorway\":[\"#636efa\",\"#EF553B\",\"#00cc96\",\"#ab63fa\",\"#FFA15A\",\"#19d3f3\",\"#FF6692\",\"#B6E880\",\"#FF97FF\",\"#FECB52\"],\"font\":{\"color\":\"#2a3f5f\"},\"geo\":{\"bgcolor\":\"white\",\"lakecolor\":\"white\",\"landcolor\":\"#E5ECF6\",\"showlakes\":true,\"showland\":true,\"subunitcolor\":\"white\"},\"hoverlabel\":{\"align\":\"left\"},\"hovermode\":\"closest\",\"mapbox\":{\"style\":\"light\"},\"paper_bgcolor\":\"white\",\"plot_bgcolor\":\"#E5ECF6\",\"polar\":{\"angularaxis\":{\"gridcolor\":\"white\",\"linecolor\":\"white\",\"ticks\":\"\"},\"bgcolor\":\"#E5ECF6\",\"radialaxis\":{\"gridcolor\":\"white\",\"linecolor\":\"white\",\"ticks\":\"\"}},\"scene\":{\"xaxis\":{\"backgroundcolor\":\"#E5ECF6\",\"gridcolor\":\"white\",\"gridwidth\":2,\"linecolor\":\"white\",\"showbackground\":true,\"ticks\":\"\",\"zerolinecolor\":\"white\"},\"yaxis\":{\"backgroundcolor\":\"#E5ECF6\",\"gridcolor\":\"white\",\"gridwidth\":2,\"linecolor\":\"white\",\"showbackground\":true,\"ticks\":\"\",\"zerolinecolor\":\"white\"},\"zaxis\":{\"backgroundcolor\":\"#E5ECF6\",\"gridcolor\":\"white\",\"gridwidth\":2,\"linecolor\":\"white\",\"showbackground\":true,\"ticks\":\"\",\"zerolinecolor\":\"white\"}},\"shapedefaults\":{\"line\":{\"color\":\"#2a3f5f\"}},\"ternary\":{\"aaxis\":{\"gridcolor\":\"white\",\"linecolor\":\"white\",\"ticks\":\"\"},\"baxis\":{\"gridcolor\":\"white\",\"linecolor\":\"white\",\"ticks\":\"\"},\"bgcolor\":\"#E5ECF6\",\"caxis\":{\"gridcolor\":\"white\",\"linecolor\":\"white\",\"ticks\":\"\"}},\"title\":{\"x\":0.05},\"xaxis\":{\"automargin\":true,\"gridcolor\":\"white\",\"linecolor\":\"white\",\"ticks\":\"\",\"title\":{\"standoff\":15},\"zerolinecolor\":\"white\",\"zerolinewidth\":2},\"yaxis\":{\"automargin\":true,\"gridcolor\":\"white\",\"linecolor\":\"white\",\"ticks\":\"\",\"title\":{\"standoff\":15},\"zerolinecolor\":\"white\",\"zerolinewidth\":2}}},\"title\":{\"text\":\"Number of Jobs in Data Field in USA States\"}},                        {\"responsive\": true}                    ).then(function(){\n",
       "                            \n",
       "var gd = document.getElementById('705fa82f-efb0-409d-9935-c0e6275e365e');\n",
       "var x = new MutationObserver(function (mutations, observer) {{\n",
       "        var display = window.getComputedStyle(gd).display;\n",
       "        if (!display || display === 'none') {{\n",
       "            console.log([gd, 'removed!']);\n",
       "            Plotly.purge(gd);\n",
       "            observer.disconnect();\n",
       "        }}\n",
       "}});\n",
       "\n",
       "// Listen for the removal of the full notebook cells\n",
       "var notebookContainer = gd.closest('#notebook-container');\n",
       "if (notebookContainer) {{\n",
       "    x.observe(notebookContainer, {childList: true});\n",
       "}}\n",
       "\n",
       "// Listen for the clearing of the current output cell\n",
       "var outputEl = gd.closest('.output');\n",
       "if (outputEl) {{\n",
       "    x.observe(outputEl, {childList: true});\n",
       "}}\n",
       "\n",
       "                        })                };                });            </script>        </div>"
      ]
     },
     "metadata": {},
     "output_type": "display_data"
    }
   ],
   "source": [
    "#Let's draw it! \n",
    "#Good thing is that you can interact with the map!\n",
    "iplot(choromap)"
   ]
  },
  {
   "cell_type": "markdown",
   "id": "6c3578f3",
   "metadata": {},
   "source": [
    "Sometimes if you do not run cell, image isn't showing. So, I put the image of the result below just in case!"
   ]
  },
  {
   "attachments": {
    "newplot%20%281%29.png": {
     "image/png": "[encoded data removed]"
    }
   },
   "cell_type": "markdown",
   "id": "254da83c",
   "metadata": {},
   "source": [
    "![newplot%20%281%29.png](attachment:newplot%20%281%29.png)"
   ]
  }
 ],
 "metadata": {
  "kernelspec": {
   "display_name": "Python 3 (ipykernel)",
   "language": "python",
   "name": "python3"
  },
  "language_info": {
   "codemirror_mode": {
    "name": "ipython",
    "version": 3
   },
   "file_extension": ".py",
   "mimetype": "text/x-python",
   "name": "python",
   "nbconvert_exporter": "python",
   "pygments_lexer": "ipython3",
   "version": "3.9.7"
  }
 },
 "nbformat": 4,
 "nbformat_minor": 5
}
